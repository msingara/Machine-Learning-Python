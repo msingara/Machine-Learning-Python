{
 "cells": [
  {
   "cell_type": "code",
   "execution_count": 83,
   "metadata": {
    "scrolled": true
   },
   "outputs": [],
   "source": [
    "#make the necessary imports\n",
    "import pandas as pd\n",
    "import numpy as np\n",
    "from sklearn import tree\n",
    "from sklearn.model_selection import train_test_split\n",
    "from sklearn.metrics import f1_score, precision_score, recall_score, confusion_matrix, accuracy_score,classification_report\n",
    "from sklearn.naive_bayes import MultinomialNB\n",
    "\n",
    "from sklearn.model_selection import cross_val_score,cross_validate\n",
    "from sklearn import model_selection\n",
    "\n",
    "from datetime import datetime\n",
    "\n",
    "\n",
    "from sklearn.linear_model import LinearRegression\n",
    "from sklearn import metrics\n",
    "from sklearn.linear_model import LogisticRegression\n",
    "\n",
    "\n",
    "\n",
    "from sklearn.ensemble import RandomForestClassifier\n",
    "\n",
    "from sklearn.naive_bayes import BernoulliNB\n",
    "\n",
    "\n",
    "from sklearn.metrics import mean_squared_error,r2_score\n",
    "import matplotlib.pyplot as plt\n",
    "\n",
    "import seaborn as sns\n",
    "from sklearn.preprocessing import LabelEncoder\n",
    "from sklearn import preprocessing\n",
    "from sklearn.preprocessing import StandardScaler\n",
    "\n",
    "from sklearn.cluster import KMeans\n",
    "\n",
    "# set jupyter's max row display\n",
    "pd.set_option('display.max_row', 1000)\n",
    "\n",
    "# set jupyter's max column width to 50\n",
    "pd.set_option('display.max_columns', 50)"
   ]
  },
  {
   "cell_type": "code",
   "execution_count": 84,
   "metadata": {},
   "outputs": [],
   "source": [
    "#disable auto-scrolling"
   ]
  },
  {
   "cell_type": "code",
   "execution_count": 85,
   "metadata": {},
   "outputs": [
    {
     "data": {
      "application/javascript": [
       "IPython.OutputArea.prototype._should_scroll = function(lines) {\n",
       "    return false;\n",
       "}\n"
      ],
      "text/plain": [
       "<IPython.core.display.Javascript object>"
      ]
     },
     "metadata": {},
     "output_type": "display_data"
    }
   ],
   "source": [
    "\n",
    "%%javascript\n",
    "IPython.OutputArea.prototype._should_scroll = function(lines) {\n",
    "    return false;\n",
    "}\n",
    "\n"
   ]
  },
  {
   "cell_type": "code",
   "execution_count": 86,
   "metadata": {},
   "outputs": [
    {
     "name": "stderr",
     "output_type": "stream",
     "text": [
      "C:\\Users\\Iptisha\\Anaconda3\\lib\\site-packages\\IPython\\core\\interactiveshell.py:2785: DtypeWarning: Columns (4,6,31,33,61,62,63,76,79,90,92,94,96,114,115,121) have mixed types. Specify dtype option on import or set low_memory=False.\n",
      "  interactivity=interactivity, compiler=compiler, result=result)\n"
     ]
    }
   ],
   "source": [
    "#Load 'globalterrorism.csv'\n",
    "\n",
    "data = pd.read_csv('globalterrorism.csv',encoding='ISO-8859-1')"
   ]
  },
  {
   "cell_type": "code",
   "execution_count": 87,
   "metadata": {},
   "outputs": [
    {
     "data": {
      "text/plain": [
       "(181691, 135)"
      ]
     },
     "execution_count": 87,
     "metadata": {},
     "output_type": "execute_result"
    }
   ],
   "source": [
    "# structure of your dataset? (shape)\n",
    "data.shape"
   ]
  },
  {
   "cell_type": "code",
   "execution_count": 88,
   "metadata": {},
   "outputs": [
    {
     "data": {
      "text/plain": [
       "Index(['eventid', 'iyear', 'imonth', 'iday', 'approxdate', 'extended',\n",
       "       'resolution', 'country', 'country_txt', 'region',\n",
       "       ...\n",
       "       'addnotes', 'scite1', 'scite2', 'scite3', 'dbsource', 'INT_LOG',\n",
       "       'INT_IDEO', 'INT_MISC', 'INT_ANY', 'related'],\n",
       "      dtype='object', length=135)"
      ]
     },
     "execution_count": 88,
     "metadata": {},
     "output_type": "execute_result"
    }
   ],
   "source": [
    "#main feature(s) in your dataset? (column names)\n",
    "data.columns"
   ]
  },
  {
   "cell_type": "code",
   "execution_count": 89,
   "metadata": {
    "scrolled": true
   },
   "outputs": [
    {
     "data": {
      "text/html": [
       "<div>\n",
       "<style scoped>\n",
       "    .dataframe tbody tr th:only-of-type {\n",
       "        vertical-align: middle;\n",
       "    }\n",
       "\n",
       "    .dataframe tbody tr th {\n",
       "        vertical-align: top;\n",
       "    }\n",
       "\n",
       "    .dataframe thead th {\n",
       "        text-align: right;\n",
       "    }\n",
       "</style>\n",
       "<table border=\"1\" class=\"dataframe\">\n",
       "  <thead>\n",
       "    <tr style=\"text-align: right;\">\n",
       "      <th></th>\n",
       "      <th>eventid</th>\n",
       "      <th>iyear</th>\n",
       "      <th>imonth</th>\n",
       "      <th>iday</th>\n",
       "      <th>approxdate</th>\n",
       "      <th>extended</th>\n",
       "      <th>resolution</th>\n",
       "      <th>country</th>\n",
       "      <th>country_txt</th>\n",
       "      <th>region</th>\n",
       "      <th>region_txt</th>\n",
       "      <th>provstate</th>\n",
       "      <th>city</th>\n",
       "      <th>latitude</th>\n",
       "      <th>longitude</th>\n",
       "      <th>specificity</th>\n",
       "      <th>vicinity</th>\n",
       "      <th>location</th>\n",
       "      <th>summary</th>\n",
       "      <th>crit1</th>\n",
       "      <th>crit2</th>\n",
       "      <th>crit3</th>\n",
       "      <th>doubtterr</th>\n",
       "      <th>alternative</th>\n",
       "      <th>alternative_txt</th>\n",
       "      <th>...</th>\n",
       "      <th>nhostkid</th>\n",
       "      <th>nhostkidus</th>\n",
       "      <th>nhours</th>\n",
       "      <th>ndays</th>\n",
       "      <th>divert</th>\n",
       "      <th>kidhijcountry</th>\n",
       "      <th>ransom</th>\n",
       "      <th>ransomamt</th>\n",
       "      <th>ransomamtus</th>\n",
       "      <th>ransompaid</th>\n",
       "      <th>ransompaidus</th>\n",
       "      <th>ransomnote</th>\n",
       "      <th>hostkidoutcome</th>\n",
       "      <th>hostkidoutcome_txt</th>\n",
       "      <th>nreleased</th>\n",
       "      <th>addnotes</th>\n",
       "      <th>scite1</th>\n",
       "      <th>scite2</th>\n",
       "      <th>scite3</th>\n",
       "      <th>dbsource</th>\n",
       "      <th>INT_LOG</th>\n",
       "      <th>INT_IDEO</th>\n",
       "      <th>INT_MISC</th>\n",
       "      <th>INT_ANY</th>\n",
       "      <th>related</th>\n",
       "    </tr>\n",
       "  </thead>\n",
       "  <tbody>\n",
       "    <tr>\n",
       "      <th>0</th>\n",
       "      <td>1.970000e+11</td>\n",
       "      <td>1970</td>\n",
       "      <td>7</td>\n",
       "      <td>2</td>\n",
       "      <td>NaN</td>\n",
       "      <td>0</td>\n",
       "      <td>NaN</td>\n",
       "      <td>58</td>\n",
       "      <td>Dominican Republic</td>\n",
       "      <td>2</td>\n",
       "      <td>Central America &amp; Caribbean</td>\n",
       "      <td>NaN</td>\n",
       "      <td>Santo Domingo</td>\n",
       "      <td>18.456792</td>\n",
       "      <td>-69.951164</td>\n",
       "      <td>1.0</td>\n",
       "      <td>0</td>\n",
       "      <td>NaN</td>\n",
       "      <td>NaN</td>\n",
       "      <td>1</td>\n",
       "      <td>1</td>\n",
       "      <td>1</td>\n",
       "      <td>0.0</td>\n",
       "      <td>NaN</td>\n",
       "      <td>NaN</td>\n",
       "      <td>...</td>\n",
       "      <td>NaN</td>\n",
       "      <td>NaN</td>\n",
       "      <td>NaN</td>\n",
       "      <td>NaN</td>\n",
       "      <td>NaN</td>\n",
       "      <td>NaN</td>\n",
       "      <td>0.0</td>\n",
       "      <td>NaN</td>\n",
       "      <td>NaN</td>\n",
       "      <td>NaN</td>\n",
       "      <td>NaN</td>\n",
       "      <td>NaN</td>\n",
       "      <td>NaN</td>\n",
       "      <td>NaN</td>\n",
       "      <td>NaN</td>\n",
       "      <td>NaN</td>\n",
       "      <td>NaN</td>\n",
       "      <td>NaN</td>\n",
       "      <td>NaN</td>\n",
       "      <td>PGIS</td>\n",
       "      <td>0</td>\n",
       "      <td>0</td>\n",
       "      <td>0</td>\n",
       "      <td>0</td>\n",
       "      <td>NaN</td>\n",
       "    </tr>\n",
       "    <tr>\n",
       "      <th>1</th>\n",
       "      <td>1.970000e+11</td>\n",
       "      <td>1970</td>\n",
       "      <td>0</td>\n",
       "      <td>0</td>\n",
       "      <td>NaN</td>\n",
       "      <td>0</td>\n",
       "      <td>NaN</td>\n",
       "      <td>130</td>\n",
       "      <td>Mexico</td>\n",
       "      <td>1</td>\n",
       "      <td>North America</td>\n",
       "      <td>Federal</td>\n",
       "      <td>Mexico city</td>\n",
       "      <td>19.371887</td>\n",
       "      <td>-99.086624</td>\n",
       "      <td>1.0</td>\n",
       "      <td>0</td>\n",
       "      <td>NaN</td>\n",
       "      <td>NaN</td>\n",
       "      <td>1</td>\n",
       "      <td>1</td>\n",
       "      <td>1</td>\n",
       "      <td>0.0</td>\n",
       "      <td>NaN</td>\n",
       "      <td>NaN</td>\n",
       "      <td>...</td>\n",
       "      <td>1.0</td>\n",
       "      <td>0.0</td>\n",
       "      <td>NaN</td>\n",
       "      <td>NaN</td>\n",
       "      <td>NaN</td>\n",
       "      <td>Mexico</td>\n",
       "      <td>1.0</td>\n",
       "      <td>800000.0</td>\n",
       "      <td>NaN</td>\n",
       "      <td>NaN</td>\n",
       "      <td>NaN</td>\n",
       "      <td>NaN</td>\n",
       "      <td>NaN</td>\n",
       "      <td>NaN</td>\n",
       "      <td>NaN</td>\n",
       "      <td>NaN</td>\n",
       "      <td>NaN</td>\n",
       "      <td>NaN</td>\n",
       "      <td>NaN</td>\n",
       "      <td>PGIS</td>\n",
       "      <td>0</td>\n",
       "      <td>1</td>\n",
       "      <td>1</td>\n",
       "      <td>1</td>\n",
       "      <td>NaN</td>\n",
       "    </tr>\n",
       "    <tr>\n",
       "      <th>2</th>\n",
       "      <td>1.970010e+11</td>\n",
       "      <td>1970</td>\n",
       "      <td>1</td>\n",
       "      <td>0</td>\n",
       "      <td>NaN</td>\n",
       "      <td>0</td>\n",
       "      <td>NaN</td>\n",
       "      <td>160</td>\n",
       "      <td>Philippines</td>\n",
       "      <td>5</td>\n",
       "      <td>Southeast Asia</td>\n",
       "      <td>Tarlac</td>\n",
       "      <td>Unknown</td>\n",
       "      <td>15.478598</td>\n",
       "      <td>120.599741</td>\n",
       "      <td>4.0</td>\n",
       "      <td>0</td>\n",
       "      <td>NaN</td>\n",
       "      <td>NaN</td>\n",
       "      <td>1</td>\n",
       "      <td>1</td>\n",
       "      <td>1</td>\n",
       "      <td>0.0</td>\n",
       "      <td>NaN</td>\n",
       "      <td>NaN</td>\n",
       "      <td>...</td>\n",
       "      <td>NaN</td>\n",
       "      <td>NaN</td>\n",
       "      <td>NaN</td>\n",
       "      <td>NaN</td>\n",
       "      <td>NaN</td>\n",
       "      <td>NaN</td>\n",
       "      <td>0.0</td>\n",
       "      <td>NaN</td>\n",
       "      <td>NaN</td>\n",
       "      <td>NaN</td>\n",
       "      <td>NaN</td>\n",
       "      <td>NaN</td>\n",
       "      <td>NaN</td>\n",
       "      <td>NaN</td>\n",
       "      <td>NaN</td>\n",
       "      <td>NaN</td>\n",
       "      <td>NaN</td>\n",
       "      <td>NaN</td>\n",
       "      <td>NaN</td>\n",
       "      <td>PGIS</td>\n",
       "      <td>-9</td>\n",
       "      <td>-9</td>\n",
       "      <td>1</td>\n",
       "      <td>1</td>\n",
       "      <td>NaN</td>\n",
       "    </tr>\n",
       "    <tr>\n",
       "      <th>3</th>\n",
       "      <td>1.970010e+11</td>\n",
       "      <td>1970</td>\n",
       "      <td>1</td>\n",
       "      <td>0</td>\n",
       "      <td>NaN</td>\n",
       "      <td>0</td>\n",
       "      <td>NaN</td>\n",
       "      <td>78</td>\n",
       "      <td>Greece</td>\n",
       "      <td>8</td>\n",
       "      <td>Western Europe</td>\n",
       "      <td>Attica</td>\n",
       "      <td>Athens</td>\n",
       "      <td>37.997490</td>\n",
       "      <td>23.762728</td>\n",
       "      <td>1.0</td>\n",
       "      <td>0</td>\n",
       "      <td>NaN</td>\n",
       "      <td>NaN</td>\n",
       "      <td>1</td>\n",
       "      <td>1</td>\n",
       "      <td>1</td>\n",
       "      <td>0.0</td>\n",
       "      <td>NaN</td>\n",
       "      <td>NaN</td>\n",
       "      <td>...</td>\n",
       "      <td>NaN</td>\n",
       "      <td>NaN</td>\n",
       "      <td>NaN</td>\n",
       "      <td>NaN</td>\n",
       "      <td>NaN</td>\n",
       "      <td>NaN</td>\n",
       "      <td>0.0</td>\n",
       "      <td>NaN</td>\n",
       "      <td>NaN</td>\n",
       "      <td>NaN</td>\n",
       "      <td>NaN</td>\n",
       "      <td>NaN</td>\n",
       "      <td>NaN</td>\n",
       "      <td>NaN</td>\n",
       "      <td>NaN</td>\n",
       "      <td>NaN</td>\n",
       "      <td>NaN</td>\n",
       "      <td>NaN</td>\n",
       "      <td>NaN</td>\n",
       "      <td>PGIS</td>\n",
       "      <td>-9</td>\n",
       "      <td>-9</td>\n",
       "      <td>1</td>\n",
       "      <td>1</td>\n",
       "      <td>NaN</td>\n",
       "    </tr>\n",
       "    <tr>\n",
       "      <th>4</th>\n",
       "      <td>1.970010e+11</td>\n",
       "      <td>1970</td>\n",
       "      <td>1</td>\n",
       "      <td>0</td>\n",
       "      <td>NaN</td>\n",
       "      <td>0</td>\n",
       "      <td>NaN</td>\n",
       "      <td>101</td>\n",
       "      <td>Japan</td>\n",
       "      <td>4</td>\n",
       "      <td>East Asia</td>\n",
       "      <td>Fukouka</td>\n",
       "      <td>Fukouka</td>\n",
       "      <td>33.580412</td>\n",
       "      <td>130.396361</td>\n",
       "      <td>1.0</td>\n",
       "      <td>0</td>\n",
       "      <td>NaN</td>\n",
       "      <td>NaN</td>\n",
       "      <td>1</td>\n",
       "      <td>1</td>\n",
       "      <td>1</td>\n",
       "      <td>-9.0</td>\n",
       "      <td>NaN</td>\n",
       "      <td>NaN</td>\n",
       "      <td>...</td>\n",
       "      <td>NaN</td>\n",
       "      <td>NaN</td>\n",
       "      <td>NaN</td>\n",
       "      <td>NaN</td>\n",
       "      <td>NaN</td>\n",
       "      <td>NaN</td>\n",
       "      <td>0.0</td>\n",
       "      <td>NaN</td>\n",
       "      <td>NaN</td>\n",
       "      <td>NaN</td>\n",
       "      <td>NaN</td>\n",
       "      <td>NaN</td>\n",
       "      <td>NaN</td>\n",
       "      <td>NaN</td>\n",
       "      <td>NaN</td>\n",
       "      <td>NaN</td>\n",
       "      <td>NaN</td>\n",
       "      <td>NaN</td>\n",
       "      <td>NaN</td>\n",
       "      <td>PGIS</td>\n",
       "      <td>-9</td>\n",
       "      <td>-9</td>\n",
       "      <td>1</td>\n",
       "      <td>1</td>\n",
       "      <td>NaN</td>\n",
       "    </tr>\n",
       "    <tr>\n",
       "      <th>5</th>\n",
       "      <td>1.970010e+11</td>\n",
       "      <td>1970</td>\n",
       "      <td>1</td>\n",
       "      <td>1</td>\n",
       "      <td>NaN</td>\n",
       "      <td>0</td>\n",
       "      <td>NaN</td>\n",
       "      <td>217</td>\n",
       "      <td>United States</td>\n",
       "      <td>1</td>\n",
       "      <td>North America</td>\n",
       "      <td>Illinois</td>\n",
       "      <td>Cairo</td>\n",
       "      <td>37.005105</td>\n",
       "      <td>-89.176269</td>\n",
       "      <td>1.0</td>\n",
       "      <td>0</td>\n",
       "      <td>NaN</td>\n",
       "      <td>1/1/1970: Unknown African American assailants ...</td>\n",
       "      <td>1</td>\n",
       "      <td>1</td>\n",
       "      <td>1</td>\n",
       "      <td>0.0</td>\n",
       "      <td>NaN</td>\n",
       "      <td>NaN</td>\n",
       "      <td>...</td>\n",
       "      <td>NaN</td>\n",
       "      <td>NaN</td>\n",
       "      <td>NaN</td>\n",
       "      <td>NaN</td>\n",
       "      <td>NaN</td>\n",
       "      <td>NaN</td>\n",
       "      <td>0.0</td>\n",
       "      <td>NaN</td>\n",
       "      <td>NaN</td>\n",
       "      <td>NaN</td>\n",
       "      <td>NaN</td>\n",
       "      <td>NaN</td>\n",
       "      <td>NaN</td>\n",
       "      <td>NaN</td>\n",
       "      <td>NaN</td>\n",
       "      <td>The Cairo Chief of Police, William Petersen, r...</td>\n",
       "      <td>\"Police Chief Quits,\" Washington Post, January...</td>\n",
       "      <td>\"Cairo Police Chief Quits; Decries Local 'Mili...</td>\n",
       "      <td>Christopher Hewitt, \"Political Violence and Te...</td>\n",
       "      <td>Hewitt Project</td>\n",
       "      <td>-9</td>\n",
       "      <td>-9</td>\n",
       "      <td>0</td>\n",
       "      <td>-9</td>\n",
       "      <td>NaN</td>\n",
       "    </tr>\n",
       "    <tr>\n",
       "      <th>6</th>\n",
       "      <td>1.970010e+11</td>\n",
       "      <td>1970</td>\n",
       "      <td>1</td>\n",
       "      <td>2</td>\n",
       "      <td>NaN</td>\n",
       "      <td>0</td>\n",
       "      <td>NaN</td>\n",
       "      <td>218</td>\n",
       "      <td>Uruguay</td>\n",
       "      <td>3</td>\n",
       "      <td>South America</td>\n",
       "      <td>Montevideo</td>\n",
       "      <td>Montevideo</td>\n",
       "      <td>-34.891151</td>\n",
       "      <td>-56.187214</td>\n",
       "      <td>1.0</td>\n",
       "      <td>0</td>\n",
       "      <td>NaN</td>\n",
       "      <td>NaN</td>\n",
       "      <td>1</td>\n",
       "      <td>1</td>\n",
       "      <td>1</td>\n",
       "      <td>0.0</td>\n",
       "      <td>NaN</td>\n",
       "      <td>NaN</td>\n",
       "      <td>...</td>\n",
       "      <td>NaN</td>\n",
       "      <td>NaN</td>\n",
       "      <td>NaN</td>\n",
       "      <td>NaN</td>\n",
       "      <td>NaN</td>\n",
       "      <td>NaN</td>\n",
       "      <td>0.0</td>\n",
       "      <td>NaN</td>\n",
       "      <td>NaN</td>\n",
       "      <td>NaN</td>\n",
       "      <td>NaN</td>\n",
       "      <td>NaN</td>\n",
       "      <td>NaN</td>\n",
       "      <td>NaN</td>\n",
       "      <td>NaN</td>\n",
       "      <td>NaN</td>\n",
       "      <td>NaN</td>\n",
       "      <td>NaN</td>\n",
       "      <td>NaN</td>\n",
       "      <td>PGIS</td>\n",
       "      <td>0</td>\n",
       "      <td>0</td>\n",
       "      <td>0</td>\n",
       "      <td>0</td>\n",
       "      <td>NaN</td>\n",
       "    </tr>\n",
       "    <tr>\n",
       "      <th>7</th>\n",
       "      <td>1.970010e+11</td>\n",
       "      <td>1970</td>\n",
       "      <td>1</td>\n",
       "      <td>2</td>\n",
       "      <td>NaN</td>\n",
       "      <td>0</td>\n",
       "      <td>NaN</td>\n",
       "      <td>217</td>\n",
       "      <td>United States</td>\n",
       "      <td>1</td>\n",
       "      <td>North America</td>\n",
       "      <td>California</td>\n",
       "      <td>Oakland</td>\n",
       "      <td>37.791927</td>\n",
       "      <td>-122.225906</td>\n",
       "      <td>1.0</td>\n",
       "      <td>0</td>\n",
       "      <td>Edes Substation</td>\n",
       "      <td>1/2/1970: Unknown perpetrators detonated explo...</td>\n",
       "      <td>1</td>\n",
       "      <td>1</td>\n",
       "      <td>1</td>\n",
       "      <td>1.0</td>\n",
       "      <td>2.0</td>\n",
       "      <td>Other Crime Type</td>\n",
       "      <td>...</td>\n",
       "      <td>NaN</td>\n",
       "      <td>NaN</td>\n",
       "      <td>NaN</td>\n",
       "      <td>NaN</td>\n",
       "      <td>NaN</td>\n",
       "      <td>NaN</td>\n",
       "      <td>0.0</td>\n",
       "      <td>NaN</td>\n",
       "      <td>NaN</td>\n",
       "      <td>NaN</td>\n",
       "      <td>NaN</td>\n",
       "      <td>NaN</td>\n",
       "      <td>NaN</td>\n",
       "      <td>NaN</td>\n",
       "      <td>NaN</td>\n",
       "      <td>Damages were estimated to be between $20,000-$...</td>\n",
       "      <td>Committee on Government Operations United Stat...</td>\n",
       "      <td>Christopher Hewitt, \"Political Violence and Te...</td>\n",
       "      <td>NaN</td>\n",
       "      <td>Hewitt Project</td>\n",
       "      <td>-9</td>\n",
       "      <td>-9</td>\n",
       "      <td>0</td>\n",
       "      <td>-9</td>\n",
       "      <td>NaN</td>\n",
       "    </tr>\n",
       "    <tr>\n",
       "      <th>8</th>\n",
       "      <td>1.970010e+11</td>\n",
       "      <td>1970</td>\n",
       "      <td>1</td>\n",
       "      <td>2</td>\n",
       "      <td>NaN</td>\n",
       "      <td>0</td>\n",
       "      <td>NaN</td>\n",
       "      <td>217</td>\n",
       "      <td>United States</td>\n",
       "      <td>1</td>\n",
       "      <td>North America</td>\n",
       "      <td>Wisconsin</td>\n",
       "      <td>Madison</td>\n",
       "      <td>43.076592</td>\n",
       "      <td>-89.412488</td>\n",
       "      <td>1.0</td>\n",
       "      <td>0</td>\n",
       "      <td>NaN</td>\n",
       "      <td>1/2/1970: Karl Armstrong, a member of the New ...</td>\n",
       "      <td>1</td>\n",
       "      <td>1</td>\n",
       "      <td>1</td>\n",
       "      <td>0.0</td>\n",
       "      <td>NaN</td>\n",
       "      <td>NaN</td>\n",
       "      <td>...</td>\n",
       "      <td>NaN</td>\n",
       "      <td>NaN</td>\n",
       "      <td>NaN</td>\n",
       "      <td>NaN</td>\n",
       "      <td>NaN</td>\n",
       "      <td>NaN</td>\n",
       "      <td>0.0</td>\n",
       "      <td>NaN</td>\n",
       "      <td>NaN</td>\n",
       "      <td>NaN</td>\n",
       "      <td>NaN</td>\n",
       "      <td>NaN</td>\n",
       "      <td>NaN</td>\n",
       "      <td>NaN</td>\n",
       "      <td>NaN</td>\n",
       "      <td>The New Years Gang issue a communiqué to a loc...</td>\n",
       "      <td>Tom Bates, \"Rads: The 1970 Bombing of the Army...</td>\n",
       "      <td>David Newman, Sandra Sutherland, and Jon Stewa...</td>\n",
       "      <td>The Wisconsin Cartographers' Guild, \"Wisconsin...</td>\n",
       "      <td>Hewitt Project</td>\n",
       "      <td>0</td>\n",
       "      <td>0</td>\n",
       "      <td>0</td>\n",
       "      <td>0</td>\n",
       "      <td>NaN</td>\n",
       "    </tr>\n",
       "    <tr>\n",
       "      <th>9</th>\n",
       "      <td>1.970010e+11</td>\n",
       "      <td>1970</td>\n",
       "      <td>1</td>\n",
       "      <td>3</td>\n",
       "      <td>NaN</td>\n",
       "      <td>0</td>\n",
       "      <td>NaN</td>\n",
       "      <td>217</td>\n",
       "      <td>United States</td>\n",
       "      <td>1</td>\n",
       "      <td>North America</td>\n",
       "      <td>Wisconsin</td>\n",
       "      <td>Madison</td>\n",
       "      <td>43.072950</td>\n",
       "      <td>-89.386694</td>\n",
       "      <td>1.0</td>\n",
       "      <td>0</td>\n",
       "      <td>NaN</td>\n",
       "      <td>1/3/1970: Karl Armstrong, a member of the New ...</td>\n",
       "      <td>1</td>\n",
       "      <td>1</td>\n",
       "      <td>1</td>\n",
       "      <td>0.0</td>\n",
       "      <td>NaN</td>\n",
       "      <td>NaN</td>\n",
       "      <td>...</td>\n",
       "      <td>NaN</td>\n",
       "      <td>NaN</td>\n",
       "      <td>NaN</td>\n",
       "      <td>NaN</td>\n",
       "      <td>NaN</td>\n",
       "      <td>NaN</td>\n",
       "      <td>0.0</td>\n",
       "      <td>NaN</td>\n",
       "      <td>NaN</td>\n",
       "      <td>NaN</td>\n",
       "      <td>NaN</td>\n",
       "      <td>NaN</td>\n",
       "      <td>NaN</td>\n",
       "      <td>NaN</td>\n",
       "      <td>NaN</td>\n",
       "      <td>Karl Armstrong's girlfriend, Lynn Schultz, dro...</td>\n",
       "      <td>Committee on Government Operations United Stat...</td>\n",
       "      <td>Tom Bates, \"Rads: The 1970 Bombing of the Army...</td>\n",
       "      <td>David Newman, Sandra Sutherland, and Jon Stewa...</td>\n",
       "      <td>Hewitt Project</td>\n",
       "      <td>0</td>\n",
       "      <td>0</td>\n",
       "      <td>0</td>\n",
       "      <td>0</td>\n",
       "      <td>NaN</td>\n",
       "    </tr>\n",
       "  </tbody>\n",
       "</table>\n",
       "<p>10 rows × 135 columns</p>\n",
       "</div>"
      ],
      "text/plain": [
       "        eventid  iyear  imonth  iday approxdate  extended resolution  country  \\\n",
       "0  1.970000e+11   1970       7     2        NaN         0        NaN       58   \n",
       "1  1.970000e+11   1970       0     0        NaN         0        NaN      130   \n",
       "2  1.970010e+11   1970       1     0        NaN         0        NaN      160   \n",
       "3  1.970010e+11   1970       1     0        NaN         0        NaN       78   \n",
       "4  1.970010e+11   1970       1     0        NaN         0        NaN      101   \n",
       "5  1.970010e+11   1970       1     1        NaN         0        NaN      217   \n",
       "6  1.970010e+11   1970       1     2        NaN         0        NaN      218   \n",
       "7  1.970010e+11   1970       1     2        NaN         0        NaN      217   \n",
       "8  1.970010e+11   1970       1     2        NaN         0        NaN      217   \n",
       "9  1.970010e+11   1970       1     3        NaN         0        NaN      217   \n",
       "\n",
       "          country_txt  region                   region_txt   provstate  \\\n",
       "0  Dominican Republic       2  Central America & Caribbean         NaN   \n",
       "1              Mexico       1                North America     Federal   \n",
       "2         Philippines       5               Southeast Asia      Tarlac   \n",
       "3              Greece       8               Western Europe      Attica   \n",
       "4               Japan       4                    East Asia     Fukouka   \n",
       "5       United States       1                North America    Illinois   \n",
       "6             Uruguay       3                South America  Montevideo   \n",
       "7       United States       1                North America  California   \n",
       "8       United States       1                North America   Wisconsin   \n",
       "9       United States       1                North America   Wisconsin   \n",
       "\n",
       "            city   latitude   longitude  specificity  vicinity  \\\n",
       "0  Santo Domingo  18.456792  -69.951164          1.0         0   \n",
       "1    Mexico city  19.371887  -99.086624          1.0         0   \n",
       "2        Unknown  15.478598  120.599741          4.0         0   \n",
       "3         Athens  37.997490   23.762728          1.0         0   \n",
       "4        Fukouka  33.580412  130.396361          1.0         0   \n",
       "5          Cairo  37.005105  -89.176269          1.0         0   \n",
       "6     Montevideo -34.891151  -56.187214          1.0         0   \n",
       "7        Oakland  37.791927 -122.225906          1.0         0   \n",
       "8        Madison  43.076592  -89.412488          1.0         0   \n",
       "9        Madison  43.072950  -89.386694          1.0         0   \n",
       "\n",
       "          location                                            summary  crit1  \\\n",
       "0              NaN                                                NaN      1   \n",
       "1              NaN                                                NaN      1   \n",
       "2              NaN                                                NaN      1   \n",
       "3              NaN                                                NaN      1   \n",
       "4              NaN                                                NaN      1   \n",
       "5              NaN  1/1/1970: Unknown African American assailants ...      1   \n",
       "6              NaN                                                NaN      1   \n",
       "7  Edes Substation  1/2/1970: Unknown perpetrators detonated explo...      1   \n",
       "8              NaN  1/2/1970: Karl Armstrong, a member of the New ...      1   \n",
       "9              NaN  1/3/1970: Karl Armstrong, a member of the New ...      1   \n",
       "\n",
       "   crit2  crit3  doubtterr  alternative   alternative_txt   ...    nhostkid  \\\n",
       "0      1      1        0.0          NaN               NaN   ...         NaN   \n",
       "1      1      1        0.0          NaN               NaN   ...         1.0   \n",
       "2      1      1        0.0          NaN               NaN   ...         NaN   \n",
       "3      1      1        0.0          NaN               NaN   ...         NaN   \n",
       "4      1      1       -9.0          NaN               NaN   ...         NaN   \n",
       "5      1      1        0.0          NaN               NaN   ...         NaN   \n",
       "6      1      1        0.0          NaN               NaN   ...         NaN   \n",
       "7      1      1        1.0          2.0  Other Crime Type   ...         NaN   \n",
       "8      1      1        0.0          NaN               NaN   ...         NaN   \n",
       "9      1      1        0.0          NaN               NaN   ...         NaN   \n",
       "\n",
       "   nhostkidus  nhours  ndays divert  kidhijcountry ransom  ransomamt  \\\n",
       "0         NaN     NaN    NaN    NaN            NaN    0.0        NaN   \n",
       "1         0.0     NaN    NaN    NaN         Mexico    1.0   800000.0   \n",
       "2         NaN     NaN    NaN    NaN            NaN    0.0        NaN   \n",
       "3         NaN     NaN    NaN    NaN            NaN    0.0        NaN   \n",
       "4         NaN     NaN    NaN    NaN            NaN    0.0        NaN   \n",
       "5         NaN     NaN    NaN    NaN            NaN    0.0        NaN   \n",
       "6         NaN     NaN    NaN    NaN            NaN    0.0        NaN   \n",
       "7         NaN     NaN    NaN    NaN            NaN    0.0        NaN   \n",
       "8         NaN     NaN    NaN    NaN            NaN    0.0        NaN   \n",
       "9         NaN     NaN    NaN    NaN            NaN    0.0        NaN   \n",
       "\n",
       "  ransomamtus  ransompaid ransompaidus  ransomnote hostkidoutcome  \\\n",
       "0         NaN         NaN          NaN         NaN            NaN   \n",
       "1         NaN         NaN          NaN         NaN            NaN   \n",
       "2         NaN         NaN          NaN         NaN            NaN   \n",
       "3         NaN         NaN          NaN         NaN            NaN   \n",
       "4         NaN         NaN          NaN         NaN            NaN   \n",
       "5         NaN         NaN          NaN         NaN            NaN   \n",
       "6         NaN         NaN          NaN         NaN            NaN   \n",
       "7         NaN         NaN          NaN         NaN            NaN   \n",
       "8         NaN         NaN          NaN         NaN            NaN   \n",
       "9         NaN         NaN          NaN         NaN            NaN   \n",
       "\n",
       "  hostkidoutcome_txt nreleased  \\\n",
       "0                NaN       NaN   \n",
       "1                NaN       NaN   \n",
       "2                NaN       NaN   \n",
       "3                NaN       NaN   \n",
       "4                NaN       NaN   \n",
       "5                NaN       NaN   \n",
       "6                NaN       NaN   \n",
       "7                NaN       NaN   \n",
       "8                NaN       NaN   \n",
       "9                NaN       NaN   \n",
       "\n",
       "                                            addnotes  \\\n",
       "0                                                NaN   \n",
       "1                                                NaN   \n",
       "2                                                NaN   \n",
       "3                                                NaN   \n",
       "4                                                NaN   \n",
       "5  The Cairo Chief of Police, William Petersen, r...   \n",
       "6                                                NaN   \n",
       "7  Damages were estimated to be between $20,000-$...   \n",
       "8  The New Years Gang issue a communiqué to a loc...   \n",
       "9  Karl Armstrong's girlfriend, Lynn Schultz, dro...   \n",
       "\n",
       "                                              scite1  \\\n",
       "0                                                NaN   \n",
       "1                                                NaN   \n",
       "2                                                NaN   \n",
       "3                                                NaN   \n",
       "4                                                NaN   \n",
       "5  \"Police Chief Quits,\" Washington Post, January...   \n",
       "6                                                NaN   \n",
       "7  Committee on Government Operations United Stat...   \n",
       "8  Tom Bates, \"Rads: The 1970 Bombing of the Army...   \n",
       "9  Committee on Government Operations United Stat...   \n",
       "\n",
       "                                              scite2  \\\n",
       "0                                                NaN   \n",
       "1                                                NaN   \n",
       "2                                                NaN   \n",
       "3                                                NaN   \n",
       "4                                                NaN   \n",
       "5  \"Cairo Police Chief Quits; Decries Local 'Mili...   \n",
       "6                                                NaN   \n",
       "7  Christopher Hewitt, \"Political Violence and Te...   \n",
       "8  David Newman, Sandra Sutherland, and Jon Stewa...   \n",
       "9  Tom Bates, \"Rads: The 1970 Bombing of the Army...   \n",
       "\n",
       "                                              scite3        dbsource INT_LOG  \\\n",
       "0                                                NaN            PGIS       0   \n",
       "1                                                NaN            PGIS       0   \n",
       "2                                                NaN            PGIS      -9   \n",
       "3                                                NaN            PGIS      -9   \n",
       "4                                                NaN            PGIS      -9   \n",
       "5  Christopher Hewitt, \"Political Violence and Te...  Hewitt Project      -9   \n",
       "6                                                NaN            PGIS       0   \n",
       "7                                                NaN  Hewitt Project      -9   \n",
       "8  The Wisconsin Cartographers' Guild, \"Wisconsin...  Hewitt Project       0   \n",
       "9  David Newman, Sandra Sutherland, and Jon Stewa...  Hewitt Project       0   \n",
       "\n",
       "  INT_IDEO INT_MISC  INT_ANY related  \n",
       "0        0        0        0     NaN  \n",
       "1        1        1        1     NaN  \n",
       "2       -9        1        1     NaN  \n",
       "3       -9        1        1     NaN  \n",
       "4       -9        1        1     NaN  \n",
       "5       -9        0       -9     NaN  \n",
       "6        0        0        0     NaN  \n",
       "7       -9        0       -9     NaN  \n",
       "8        0        0        0     NaN  \n",
       "9        0        0        0     NaN  \n",
       "\n",
       "[10 rows x 135 columns]"
      ]
     },
     "execution_count": 89,
     "metadata": {},
     "output_type": "execute_result"
    }
   ],
   "source": [
    "#features as Categorical or Continuous. (head/tail)\n",
    "data.head(10)"
   ]
  },
  {
   "cell_type": "markdown",
   "metadata": {},
   "source": [
    "### 1. Exploratory Data Analysis"
   ]
  },
  {
   "cell_type": "code",
   "execution_count": 90,
   "metadata": {},
   "outputs": [
    {
     "data": {
      "text/plain": [
       "eventid                    0\n",
       "iyear                      0\n",
       "imonth                     0\n",
       "iday                       0\n",
       "approxdate            172452\n",
       "extended                   0\n",
       "resolution            179471\n",
       "country                    0\n",
       "country_txt                0\n",
       "region                     0\n",
       "region_txt                 0\n",
       "provstate                421\n",
       "city                     434\n",
       "latitude                4556\n",
       "longitude               4557\n",
       "specificity                6\n",
       "vicinity                   0\n",
       "location              126196\n",
       "summary                66129\n",
       "crit1                      0\n",
       "crit2                      0\n",
       "crit3                      0\n",
       "doubtterr                  1\n",
       "alternative           152680\n",
       "alternative_txt       152680\n",
       "multiple                   1\n",
       "success                    0\n",
       "suicide                    0\n",
       "attacktype1                0\n",
       "attacktype1_txt            0\n",
       "attacktype2           175377\n",
       "attacktype2_txt       175377\n",
       "attacktype3           181263\n",
       "attacktype3_txt       181263\n",
       "targtype1                  0\n",
       "targtype1_txt              0\n",
       "targsubtype1           10373\n",
       "targsubtype1_txt       10373\n",
       "corp1                  42550\n",
       "target1                  636\n",
       "natlty1                 1559\n",
       "natlty1_txt             1559\n",
       "targtype2             170547\n",
       "targtype2_txt         170547\n",
       "targsubtype2          171006\n",
       "targsubtype2_txt      171006\n",
       "corp2                 171574\n",
       "target2               170671\n",
       "natlty2               170863\n",
       "natlty2_txt           170863\n",
       "targtype3             180515\n",
       "targtype3_txt         180515\n",
       "targsubtype3          180594\n",
       "targsubtype3_txt      180594\n",
       "corp3                 180665\n",
       "target3               180516\n",
       "natlty3               180544\n",
       "natlty3_txt           180544\n",
       "gname                      0\n",
       "gsubname              175801\n",
       "gname2                179678\n",
       "gsubname2             181531\n",
       "gname3                181367\n",
       "gsubname3             181671\n",
       "motive                131130\n",
       "guncertain1              380\n",
       "guncertain2           179736\n",
       "guncertain3           181371\n",
       "individual                 0\n",
       "nperps                 71115\n",
       "nperpcap               69489\n",
       "claimed                66120\n",
       "claimmode             162608\n",
       "claimmode_txt         162608\n",
       "claim2                179801\n",
       "claimmode2            181075\n",
       "claimmode2_txt        181075\n",
       "claim3                181373\n",
       "claimmode3            181558\n",
       "claimmode3_txt        181558\n",
       "compclaim             176852\n",
       "weaptype1                  0\n",
       "weaptype1_txt              0\n",
       "weapsubtype1           20768\n",
       "weapsubtype1_txt       20768\n",
       "weaptype2             168564\n",
       "weaptype2_txt         168564\n",
       "weapsubtype2          170149\n",
       "weapsubtype2_txt      170149\n",
       "weaptype3             179828\n",
       "weaptype3_txt         179828\n",
       "weapsubtype3          179998\n",
       "weapsubtype3_txt      179998\n",
       "weaptype4             181618\n",
       "weaptype4_txt         181618\n",
       "weapsubtype4          181621\n",
       "weapsubtype4_txt      181621\n",
       "weapdetail             67670\n",
       "nkill                  10313\n",
       "nkillus                64446\n",
       "nkillter               66958\n",
       "nwound                 16311\n",
       "nwoundus               64702\n",
       "nwoundte               69143\n",
       "property                   0\n",
       "propextent            117626\n",
       "propextent_txt        117626\n",
       "propvalue             142702\n",
       "propcomment           123732\n",
       "ishostkid                178\n",
       "nhostkid              168119\n",
       "nhostkidus            168174\n",
       "nhours                177628\n",
       "ndays                 173567\n",
       "divert                181367\n",
       "kidhijcountry         178386\n",
       "ransom                104310\n",
       "ransomamt             180341\n",
       "ransomamtus           181128\n",
       "ransompaid            180917\n",
       "ransompaidus          181139\n",
       "ransomnote            181177\n",
       "hostkidoutcome        170700\n",
       "hostkidoutcome_txt    170700\n",
       "nreleased             171291\n",
       "addnotes              153402\n",
       "scite1                 66191\n",
       "scite2                104758\n",
       "scite3                138175\n",
       "dbsource                   0\n",
       "INT_LOG                    0\n",
       "INT_IDEO                   0\n",
       "INT_MISC                   0\n",
       "INT_ANY                    0\n",
       "related               156653\n",
       "dtype: int64"
      ]
     },
     "execution_count": 90,
     "metadata": {},
     "output_type": "execute_result"
    }
   ],
   "source": [
    "data.isna().sum()"
   ]
  },
  {
   "cell_type": "code",
   "execution_count": 91,
   "metadata": {},
   "outputs": [],
   "source": [
    "#There are many missing values and lot of text data as notes"
   ]
  },
  {
   "cell_type": "code",
   "execution_count": 92,
   "metadata": {},
   "outputs": [
    {
     "data": {
      "text/plain": [
       "45.561970598433604"
      ]
     },
     "execution_count": 92,
     "metadata": {},
     "output_type": "execute_result"
    }
   ],
   "source": [
    "len(data[data['gname']==\"Unknown\"])/len(data)*100"
   ]
  },
  {
   "cell_type": "code",
   "execution_count": 93,
   "metadata": {},
   "outputs": [],
   "source": [
    "#The dataset contains a huge number of \"Unknown\"s in Group Name. About 46%. \n",
    "# These rows should be removed due to two reasons:\n",
    "#1.) They have a huge proportion in dataset\n",
    "#2.) Learning them doesn't make any sense."
   ]
  },
  {
   "cell_type": "code",
   "execution_count": 94,
   "metadata": {},
   "outputs": [
    {
     "data": {
      "text/plain": [
       "3537"
      ]
     },
     "execution_count": 94,
     "metadata": {},
     "output_type": "execute_result"
    }
   ],
   "source": [
    "len(data['gname'].unique())\n",
    "\n",
    "#There are 3,537 unique classes i.e., different terrorist groups in the dataset."
   ]
  },
  {
   "cell_type": "code",
   "execution_count": 95,
   "metadata": {},
   "outputs": [
    {
     "data": {
      "text/plain": [
       "Text(0,0.5,'Terrorist Group Name')"
      ]
     },
     "execution_count": 95,
     "metadata": {},
     "output_type": "execute_result"
    },
    {
     "data": {
      "image/png": "[encoded data removed]",
      "text/plain": [
       "<Figure size 432x288 with 1 Axes>"
      ]
     },
     "metadata": {},
     "output_type": "display_data"
    }
   ],
   "source": [
    "top_gname = data.gname.value_counts()\n",
    "ax = top_gname.iloc[:20].plot(kind=\"barh\")\n",
    "ax.set_title(\"Top Terrorist Group\")\n",
    "ax.set_xlabel(\"Number of Deaths\")\n",
    "ax.set_ylabel(\"Terrorist Group Name\")\n",
    "\n",
    "\n",
    "#There are many unknowns, as we identified above"
   ]
  },
  {
   "cell_type": "code",
   "execution_count": 96,
   "metadata": {
    "scrolled": true
   },
   "outputs": [
    {
     "data": {
      "text/plain": [
       "Abu Tira (Central Reserve Forces)                                                                                   1\n",
       "Latvian Republic Volunteer Troops                                                                                   1\n",
       "Holders of the Black Banners                                                                                        1\n",
       "P.R.E.                                                                                                              1\n",
       "Organization for the oppresed in Egypt's Prisons                                                                    1\n",
       "Terai Janatantrik Party                                                                                             1\n",
       "Serbian Gangsters                                                                                                   1\n",
       "Socialist Recovery Movement                                                                                         1\n",
       "Anti-government rioters                                                                                             1\n",
       "Chakma tribal group                                                                                                 1\n",
       "Shanty Dwellers                                                                                                     1\n",
       "White Panther Party                                                                                                 1\n",
       "Radical Communist Armed Nucleus                                                                                     1\n",
       "Georgian guerrillas                                                                                                 1\n",
       "The Nocturnals                                                                                                      1\n",
       "Revolutionary Fighting Group 80                                                                                     1\n",
       "Animal Defense League                                                                                               1\n",
       "Opposition movement of Colon Province Unemployed                                                                    1\n",
       "New caledonian independence supporters                                                                              1\n",
       "Anti - Election Demonstrators                                                                                       1\n",
       "Golden Dawn                                                                                                         1\n",
       "Rival peasant band                                                                                                  1\n",
       "Prisoner's Action Force                                                                                             1\n",
       "Chinese Pirates                                                                                                     1\n",
       "Al-Yemenia al-Ulia Tribesmen                                                                                        1\n",
       "Red June                                                                                                            1\n",
       "Young Officer Union of the New Generation and Reformist Armed Forces of the Philippines (YOU-RAFP)                  1\n",
       "Miguel d'Escoto Brockman Community Movement                                                                         1\n",
       "Charlot Jacquelin Militant Front                                                                                    1\n",
       "Armed Groups for Communism                                                                                          1\n",
       "Ahmad Alawi al Muqbili                                                                                              1\n",
       "Zairian Dissidents                                                                                                  1\n",
       "People's Temple                                                                                                     1\n",
       "Marxist Resistance Movement                                                                                         1\n",
       "West Side Boys                                                                                                      1\n",
       "Opposition Jatiya Samajtantrik Del Party                                                                            1\n",
       "Zuwar al-Imam Rida                                                                                                  1\n",
       "Sisters in Arms                                                                                                     1\n",
       "Muslim Commando (Iraqi revolutionary brothers)                                                                      1\n",
       "Supporters of Muse Sudi Yalahow                                                                                     1\n",
       "Hizballah-Iraq                                                                                                      1\n",
       "National Democratic Alliance of Sudan                                                                               1\n",
       "Nicaraguans protesting their government                                                                             1\n",
       "Jai Shri Ram Hindu Bhai Group                                                                                       1\n",
       "Fetullah Terrorist Organization                                                                                     1\n",
       "Pattani United Liberation Organization-MKP (PULO-MKP)                                                               1\n",
       "Rival Bangledesh Chhatra League Faction                                                                             1\n",
       "Organization Alliance of Cuban Intransigence                                                                        1\n",
       "Portuguese Liberation Army                                                                                          1\n",
       "Popular Liberation Front Urban Commando                                                                             1\n",
       "Al-Jihad (Pakistan)                                                                                                 1\n",
       "Patria y Libertad (Fatherland and Liberty)                                                                          1\n",
       "Comite de Liberation et de Detournements d'Ordinateurs (Committee for the liberation and hijacking of computers)    1\n",
       "Arabian Peninsula Freemen                                                                                           1\n",
       "Mujahedeen Brigades                                                                                                 1\n",
       "Bru Democratic Front of Mizoram (BDFM)                                                                              1\n",
       "Hanchongryun                                                                                                        1\n",
       "Organization for Zionist Retribution                                                                                1\n",
       "National Liberation Alliance of Sa Kaeo                                                                             1\n",
       "Martyr al-Nimr Battalion                                                                                            1\n",
       "Armed Radical Groups for Communism                                                                                  1\n",
       "Baloch Militant Defense Army                                                                                        1\n",
       "Revolutionary Proletarian Army                                                                                      1\n",
       "Friendly Company                                                                                                    1\n",
       "International Proletarian Groups                                                                                    1\n",
       "Authenticity and Development Front                                                                                  1\n",
       "Supporters of Right and Freedom                                                                                     1\n",
       "Committee for the Elimination of Killer Collaborators                                                               1\n",
       "Enraged Revolutionaries                                                                                             1\n",
       "White Wolves (UK)                                                                                                   1\n",
       "Arbav Martyrs of Khuzestan                                                                                          1\n",
       "Islamic Front for the Liberation of Palestine (IFLP)                                                                1\n",
       "Tabu Tribe                                                                                                          1\n",
       "Palestinian-nationalist Lebanese joint movement                                                                     1\n",
       "Union of Revolutionary Communists in Turkey (TIKB)                                                                  1\n",
       "National United Front of Democracy Against Dictatorship (UDD)                                                       1\n",
       "Ecology and Antinuclear Revolutionary Party (CRAE)                                                                  1\n",
       "People's Army (Nicaragua)                                                                                           1\n",
       "Core Conspirators for the Extension of Chaos (Núcleo de Conspiradores por la Extensión de Kaos)                     1\n",
       "Majerten clansmen                                                                                                   1\n",
       "Spanish International Communist Party                                                                               1\n",
       "Venceremos                                                                                                          1\n",
       "Idriss Miskine Group                                                                                                1\n",
       "SKIF Detachment                                                                                                     1\n",
       "United Aryan Empire                                                                                                 1\n",
       "Antonio                                                                                                             1\n",
       "Anarchio Scene                                                                                                      1\n",
       "Ansar Allah                                                                                                         1\n",
       "Furious Rebellion                                                                                                   1\n",
       "Argentina Libre (Free Argentina)                                                                                    1\n",
       "Former Border Policeman                                                                                             1\n",
       "Martyrs of Saad Sayel                                                                                               1\n",
       "Ohabi Islamic Sect                                                                                                  1\n",
       "Revolutionary Leninist Brigades                                                                                     1\n",
       "Village League                                                                                                      1\n",
       "Groups of Martyr Baha Eleyan                                                                                        1\n",
       "Thunder of Zion                                                                                                     1\n",
       "Communist Nuclear                                                                                                   1\n",
       "Ansar al-Imam Musa al-Sadr                                                                                          1\n",
       "Toposa and Dongiro Tribes                                                                                           1\n",
       "Name: gname, dtype: int64"
      ]
     },
     "execution_count": 96,
     "metadata": {},
     "output_type": "execute_result"
    }
   ],
   "source": [
    "class_freq = data[data['gname']!='Unknown']['gname'].value_counts() \n",
    "class_freq.tail(100)\n",
    "\n"
   ]
  },
  {
   "cell_type": "code",
   "execution_count": 232,
   "metadata": {},
   "outputs": [
    {
     "data": {
      "text/plain": [
       "Taliban                                                        7478\n",
       "Islamic State of Iraq and the Levant (ISIL)                    5613\n",
       "Shining Path (SL)                                              4555\n",
       "Farabundo Marti National Liberation Front (FMLN)               3351\n",
       "Al-Shabaab                                                     3288\n",
       "New People's Army (NPA)                                        2772\n",
       "Irish Republican Army (IRA)                                    2671\n",
       "Revolutionary Armed Forces of Colombia (FARC)                  2487\n",
       "Boko Haram                                                     2418\n",
       "Kurdistan Workers' Party (PKK)                                 2310\n",
       "Basque Fatherland and Freedom (ETA)                            2024\n",
       "Communist Party of India - Maoist (CPI-Maoist)                 1878\n",
       "Maoists                                                        1630\n",
       "Liberation Tigers of Tamil Eelam (LTTE)                        1606\n",
       "National Liberation Army of Colombia (ELN)                     1561\n",
       "Tehrik-i-Taliban Pakistan (TTP)                                1351\n",
       "Palestinians                                                   1125\n",
       "Houthi extremists (Ansar Allah)                                1062\n",
       "Al-Qaida in the Arabian Peninsula (AQAP)                       1020\n",
       "Nicaraguan Democratic Force (FDN)                               895\n",
       "Manuel Rodriguez Patriotic Front (FPMR)                         830\n",
       "Sikh Extremists                                                 716\n",
       "Corsican National Liberation Front (FLNC)                       639\n",
       "Al-Qaida in Iraq                                                638\n",
       "Muslim extremists                                               632\n",
       "Donetsk People's Republic                                       624\n",
       "African National Congress (South Africa)                        607\n",
       "Separatists                                                     589\n",
       "Tupac Amaru Revolutionary Movement (MRTA)                       557\n",
       "M-19 (Movement of April 19)                                     555\n",
       "Abu Sayyaf Group (ASG)                                          527\n",
       "Fulani extremists                                               511\n",
       "Sinai Province of the Islamic State                             445\n",
       "Palestinian Extremists                                          441\n",
       "People's Liberation Front (JVP)                                 433\n",
       "National Union for the Total Independence of Angola (UNITA)     432\n",
       "Hamas (Islamic Resistance Movement)                             408\n",
       "Hezbollah                                                       406\n",
       "Bangsamoro Islamic Freedom Movement (BIFM)                      391\n",
       "Algerian Islamic Extremists                                     373\n",
       "Narco-Terrorists                                                368\n",
       "Moro Islamic Liberation Front (MILF)                            366\n",
       "United Liberation Front of Assam (ULFA)                         357\n",
       "Tripoli Province of the Islamic State                           350\n",
       "Khorasan Chapter of the Islamic State                           343\n",
       "Protestant extremists                                           334\n",
       "Chechen Rebels                                                  328\n",
       "Death Squad                                                     326\n",
       "Lord's Resistance Army (LRA)                                    322\n",
       "Baloch Republican Army (BRA)                                    312\n",
       "Mozambique National Resistance Movement (MNR)                   311\n",
       "Movement of the Revolutionary Left (MIR) (Chile)                306\n",
       "Muslim Militants                                                294\n",
       "Gunmen                                                          280\n",
       "Al-Nusrah Front                                                 277\n",
       "Popular Liberation Army (EPL)                                   273\n",
       "Ulster Volunteer Force (UVF)                                    270\n",
       "Al-Qaida in the Islamic Maghreb (AQIM)                          262\n",
       "Ulster Freedom Fighters (UFF)                                   260\n",
       "Al-Gama'at al-Islamiyya (IG)                                    259\n",
       "Dev Sol                                                         252\n",
       "Neo-Nazi extremists                                             247\n",
       "Armed Islamic Group (GIA)                                       236\n",
       "Nicaraguan Resistance                                           231\n",
       "Tamils                                                          217\n",
       "Red Brigades                                                    217\n",
       "Allied Democratic Forces (ADF)                                  216\n",
       "Salafist Group for Preaching and Fighting (GSPC)                214\n",
       "Janjaweed                                                       213\n",
       "First of October Antifascist Resistance Group (GRAPO)           210\n",
       "Luhansk People's Republic                                       209\n",
       "Sandinista National Liberation Front (FSLN)                     209\n",
       "Simon Bolivar Guerrilla Coordinating Board (CGSB)               206\n",
       "Anti-Abortion extremists                                        199\n",
       "Hizbul Mujahideen (HM)                                          199\n",
       "Moro National Liberation Front (MNLF)                           197\n",
       "Islamist extremists                                             194\n",
       "Lashkar-e-Taiba (LeT)                                           190\n",
       "Palestinian Islamic Jihad (PIJ)                                 187\n",
       "Armenian Secret Army for the Liberation of Armenia              186\n",
       "Baloch Liberation Front (BLF)                                   185\n",
       "Baloch Liberation Army (BLA)                                    181\n",
       "National Democratic Front of Bodoland (NDFB)                    175\n",
       "Palestine Liberation Organization (PLO)                         175\n",
       "Muttahida Qami Movement (MQM)                                   174\n",
       "Left-Wing Militants                                             173\n",
       "Al-Aqsa Martyrs Brigade                                         172\n",
       "Hutu extremists                                                 168\n",
       "People's Liberation Forces (FPL)                                167\n",
       "Garo National Liberation Army                                   166\n",
       "Muslim Separatists                                              163\n",
       "Khmer Rouge                                                     160\n",
       "Guerrilla Army of the Poor (EGP)                                157\n",
       "Barqa Province of the Islamic State                             154\n",
       "Islamic Salvation Front (FIS)                                   153\n",
       "Popular Front for the Liberation of Palestine (PFLP)            153\n",
       "Runda Kumpulan Kecil (RKK)                                      150\n",
       "Islamic State of Iraq (ISI)                                     145\n",
       "Democratic Revolutionary Alliance (ARDE)                        141\n",
       "Lashkar-e-Jhangvi                                               139\n",
       "Name: gname, dtype: int64"
      ]
     },
     "execution_count": 232,
     "metadata": {},
     "output_type": "execute_result"
    }
   ],
   "source": [
    "class_freq.head(100)\n"
   ]
  },
  {
   "cell_type": "code",
   "execution_count": 97,
   "metadata": {},
   "outputs": [],
   "source": [
    "#The distribution of classes is highly skewed. There are many classes that only appear once in entire data (These are outliers).\n",
    "#They need to be removed as the learning algorithm won't be able to learn it. There are many classes to remove,\n",
    "#but how to decide which to remove and which not. Well, lets decide a threshold value of \"number of occurrence\" of a class. \n",
    "#Example threshold = 200, any class having number of occurances less than class_freq[threshold] will be removed. \n",
    "#The value of threshold can be anything, for now lets choose 200\n",
    "\n",
    "#Above value of threshold will be used in the prediction model."
   ]
  },
  {
   "cell_type": "code",
   "execution_count": 98,
   "metadata": {
    "scrolled": true
   },
   "outputs": [
    {
     "data": {
      "text/plain": [
       "136"
      ]
     },
     "execution_count": 98,
     "metadata": {},
     "output_type": "execute_result"
    }
   ],
   "source": [
    "threshold = 100\n",
    "class_freq = data[data['gname']!='Unknown']['gname'].value_counts()\n",
    "\n",
    "#Frequency table of Terrorist groups, sorted by default in descending order\n",
    "\n",
    "# this value is frequency of class at 300th index. i.e., 53\n",
    "class_freq[threshold]"
   ]
  },
  {
   "cell_type": "code",
   "execution_count": 99,
   "metadata": {
    "scrolled": true
   },
   "outputs": [
    {
     "data": {
      "image/png": "[encoded data removed]",
      "text/plain": [
       "<Figure size 1080x720 with 1 Axes>"
      ]
     },
     "metadata": {},
     "output_type": "display_data"
    }
   ],
   "source": [
    "data['nkill'].fillna(0)\n",
    "no_of_kills = data.groupby('iyear')['nkill'].sum()\n",
    "plt.subplots(figsize=(15,10))\n",
    "plot1 = sns.barplot(no_of_kills.index,no_of_kills)\n",
    "plot1.set_xlabel(\"Year\")\n",
    "plot1.set_ylabel(\"Number of Deaths\")\n",
    "plot1.set_xticklabels(no_of_kills.index,rotation=50)\n",
    "plt.show()"
   ]
  },
  {
   "cell_type": "code",
   "execution_count": 100,
   "metadata": {},
   "outputs": [],
   "source": [
    "#From the graph we can see that the number of kills in 2001 was significantly higher.\n",
    "#It is because about 3000 deaths have been reported during the attacks of 9/11. The number decreases after that maybe because \n",
    "#of decreasing terrorist activity due to subsequent measures taken by U.S. government and rest of the world. \n",
    "#It rose during second decade of 21st century due to birth and rise of infamous terrorist groups like ISIS, ISIL, Taliban etc."
   ]
  },
  {
   "cell_type": "code",
   "execution_count": 101,
   "metadata": {},
   "outputs": [
    {
     "data": {
      "text/plain": [
       "<matplotlib.legend.Legend at 0x2328ff44630>"
      ]
     },
     "execution_count": 101,
     "metadata": {},
     "output_type": "execute_result"
    },
    {
     "data": {
      "image/png": "[encoded data removed]",
      "text/plain": [
       "<Figure size 1152x576 with 1 Axes>"
      ]
     },
     "metadata": {},
     "output_type": "display_data"
    }
   ],
   "source": [
    "data['region_txt'].value_counts(ascending=True).to_frame().reset_index().rename(columns={'index':'region_txt','region_txt':'Attacks'}).merge(data[['nkill','region_txt']].groupby('region_txt').sum().reset_index(),on='region_txt').plot.barh(x='region_txt',y=['Attacks','nkill'],figsize=(16,8),stacked=True)\n",
    "plt.legend(loc=5)\n",
    "\n",
    "#African and South Asian countries have more number of terroist attacks"
   ]
  },
  {
   "cell_type": "code",
   "execution_count": 102,
   "metadata": {},
   "outputs": [
    {
     "data": {
      "text/plain": [
       "Text(0,0.5,'Country')"
      ]
     },
     "execution_count": 102,
     "metadata": {},
     "output_type": "execute_result"
    },
    {
     "data": {
      "image/png": "[encoded data removed]",
      "text/plain": [
       "<Figure size 432x288 with 1 Axes>"
      ]
     },
     "metadata": {},
     "output_type": "display_data"
    }
   ],
   "source": [
    "Country_text = data.country_txt.value_counts()\n",
    "ax = Country_text.iloc[:10].plot(kind=\"barh\")\n",
    "ax.set_xlabel(\"Number of Deaths\")\n",
    "ax.set_ylabel(\"Country\")\n",
    "\n",
    "#top 5 countries with most number of attacks are - Iraq, Pakistan, Afganistan, India and Colombia"
   ]
  },
  {
   "cell_type": "code",
   "execution_count": 103,
   "metadata": {},
   "outputs": [
    {
     "data": {
      "text/plain": [
       "Text(0,0.5,'Country')"
      ]
     },
     "execution_count": 103,
     "metadata": {},
     "output_type": "execute_result"
    },
    {
     "data": {
      "image/png": "[encoded data removed]",
      "text/plain": [
       "<Figure size 432x288 with 1 Axes>"
      ]
     },
     "metadata": {},
     "output_type": "display_data"
    }
   ],
   "source": [
    "d = pd.DataFrame(data[data['iyear']==2017]['country_txt'].value_counts(sort=True)[:10])\n",
    "ax = d.iloc[:20].plot(kind=\"barh\")\n",
    "ax.set_xlabel(\"Number of Deaths in 2017\")\n",
    "ax.set_ylabel(\"Country\")\n",
    "\n",
    "#for the year 2017, the top 5 dangerous countries almost remains constant(Columbia being replaced by Philippines)"
   ]
  },
  {
   "cell_type": "code",
   "execution_count": 104,
   "metadata": {
    "scrolled": false
   },
   "outputs": [
    {
     "name": "stderr",
     "output_type": "stream",
     "text": [
      "C:\\Users\\Iptisha\\Anaconda3\\lib\\site-packages\\seaborn\\timeseries.py:183: UserWarning: The tsplot function is deprecated and will be removed or replaced (in a substantially altered version) in a future release.\n",
      "  warnings.warn(msg, UserWarning)\n"
     ]
    },
    {
     "data": {
      "image/png": "[encoded data removed]",
      "text/plain": [
       "<Figure size 1080x720 with 1 Axes>"
      ]
     },
     "metadata": {},
     "output_type": "display_data"
    }
   ],
   "source": [
    "#Above insight can be verified by below graph, which shows the number of kills in Middle East region. \n",
    "#It has been growing ever since 2010 i.e., during increasing conflicts in Syria,\n",
    "\n",
    "plt.subplots(figsize=(15,10))\n",
    "d = data[data['region_txt']=='Middle East & North Africa']\n",
    "d3 = pd.DataFrame(d.groupby(['iyear'])['nkill'].sum())\n",
    "d3.reset_index(inplace=True)\n",
    "d3['dummy']=0\n",
    "l = sns.tsplot(time=\"iyear\",value=\"nkill\",data=d3,unit=\"dummy\")\n",
    "l.set_title(\"Deaths in Middle East and North Africa\")\n",
    "l.set_xlabel(\"Year\")\n",
    "l.set_ylabel(\"Number of deaths\")\n",
    "plt.show(l)"
   ]
  },
  {
   "cell_type": "code",
   "execution_count": 105,
   "metadata": {},
   "outputs": [],
   "source": [
    "def attacks_terr(data):\n",
    "    plt.subplots(figsize=(15,10))\n",
    "    d = pd.DataFrame(data.groupby(['gname','iyear'])['iyear'].count())\n",
    "    d.columns=['Number_of_Attacks']\n",
    "    d.reset_index(inplace=True)\n",
    "    d2 = d.loc[d['gname'].isin(data['gname'].value_counts().sort_values(ascending=False).index[:10])]\n",
    "    d2 = d2.pivot(index='gname',columns='iyear',values='Number_of_Attacks').fillna(0)\n",
    "    d2 = pd.DataFrame(d2.unstack(level=0))\n",
    "    d2.reset_index(inplace=True)\n",
    "    d2.columns=['Year','Terrorist Group','Number of Attacks']\n",
    "    color_set = [\"#e82727\",\"#ff8649\",\"#ffc549\",\"#fced20\",\"#8fe222\",\"#22e28e\",\"#22e2db\",\"#1f85c4\",\"#361599\",\"#d11fce\"]\n",
    "    d2['dummy']=0\n",
    "    sns.tsplot(time='Year',value='Number of Attacks',condition='Terrorist Group',data=d2,unit='dummy',color = sns.color_palette(color_set))\n",
    "    plt.show()"
   ]
  },
  {
   "cell_type": "code",
   "execution_count": 106,
   "metadata": {
    "scrolled": false
   },
   "outputs": [
    {
     "name": "stderr",
     "output_type": "stream",
     "text": [
      "C:\\Users\\Iptisha\\Anaconda3\\lib\\site-packages\\seaborn\\timeseries.py:183: UserWarning: The tsplot function is deprecated and will be removed or replaced (in a substantially altered version) in a future release.\n",
      "  warnings.warn(msg, UserWarning)\n"
     ]
    },
    {
     "data": {
      "image/png": "[encoded data removed]",
      "text/plain": [
       "<Figure size 1080x720 with 1 Axes>"
      ]
     },
     "metadata": {},
     "output_type": "display_data"
    }
   ],
   "source": [
    "\n",
    "attacks_terr(data)\n",
    "\n",
    "#It can be inferred from graph that Islamic State of Iraq and the Levant (ISIL) is one of the fastest growing groups"
   ]
  },
  {
   "cell_type": "code",
   "execution_count": 107,
   "metadata": {
    "scrolled": true
   },
   "outputs": [
    {
     "name": "stderr",
     "output_type": "stream",
     "text": [
      "C:\\Users\\Iptisha\\Anaconda3\\lib\\site-packages\\seaborn\\timeseries.py:183: UserWarning: The tsplot function is deprecated and will be removed or replaced (in a substantially altered version) in a future release.\n",
      "  warnings.warn(msg, UserWarning)\n"
     ]
    },
    {
     "data": {
      "image/png": "[encoded data removed]",
      "text/plain": [
       "<Figure size 1080x720 with 1 Axes>"
      ]
     },
     "metadata": {},
     "output_type": "display_data"
    }
   ],
   "source": [
    "plt.subplots(figsize=(15,10))\n",
    "d = data[data['country_txt']=='United States']\n",
    "d3 = pd.DataFrame(d.groupby(['iyear'])['nkill'].sum())\n",
    "d3.reset_index(inplace=True)\n",
    "d3['dummy']=0\n",
    "l = sns.tsplot(time=\"iyear\",value=\"nkill\",data=d3,unit=\"dummy\")\n",
    "l.set_title(\"Deaths in United States\")\n",
    "l.set_xlabel(\"Year\")\n",
    "l.set_ylabel(\"Number of deaths\")\n",
    "plt.show(l)"
   ]
  },
  {
   "cell_type": "code",
   "execution_count": 108,
   "metadata": {},
   "outputs": [],
   "source": [
    "# we can see the attacks of 9/11"
   ]
  },
  {
   "cell_type": "code",
   "execution_count": 109,
   "metadata": {},
   "outputs": [
    {
     "data": {
      "image/png": "[encoded data removed]",
      "text/plain": [
       "<Figure size 1440x720 with 1 Axes>"
      ]
     },
     "metadata": {},
     "output_type": "display_data"
    }
   ],
   "source": [
    "# Histogram plot\n",
    "# bins = number of bar in figure\n",
    "data.iyear.plot(kind = 'hist', bins = 30, figsize = (20,10), fontsize=15)\n",
    "plt.xlabel('Year', fontsize=15)\n",
    "plt.ylabel('Frequency', fontsize=15)\n",
    "plt.title('Frequency of Terrorism Actions by Years')\n",
    "plt.show()"
   ]
  },
  {
   "cell_type": "markdown",
   "metadata": {},
   "source": [
    "### 2. Cleaning the Data "
   ]
  },
  {
   "cell_type": "code",
   "execution_count": 110,
   "metadata": {},
   "outputs": [],
   "source": [
    "# Remove \"Unknown\" groups, they contribute almost half to data.\n",
    "\n",
    "data = data[data['gname']!='Unknown']\n"
   ]
  },
  {
   "cell_type": "code",
   "execution_count": 111,
   "metadata": {},
   "outputs": [],
   "source": [
    "class_freq = data[data['gname']!='Unknown']['gname'].value_counts() "
   ]
  },
  {
   "cell_type": "code",
   "execution_count": 112,
   "metadata": {},
   "outputs": [],
   "source": [
    "data = data[data['gname'].isin(class_freq.index[:threshold])] "
   ]
  },
  {
   "cell_type": "code",
   "execution_count": 113,
   "metadata": {
    "scrolled": true
   },
   "outputs": [
    {
     "data": {
      "text/plain": [
       "Taliban                                                        7478\n",
       "Islamic State of Iraq and the Levant (ISIL)                    5613\n",
       "Shining Path (SL)                                              4555\n",
       "Farabundo Marti National Liberation Front (FMLN)               3351\n",
       "Al-Shabaab                                                     3288\n",
       "New People's Army (NPA)                                        2772\n",
       "Irish Republican Army (IRA)                                    2671\n",
       "Revolutionary Armed Forces of Colombia (FARC)                  2487\n",
       "Boko Haram                                                     2418\n",
       "Kurdistan Workers' Party (PKK)                                 2310\n",
       "Basque Fatherland and Freedom (ETA)                            2024\n",
       "Communist Party of India - Maoist (CPI-Maoist)                 1878\n",
       "Maoists                                                        1630\n",
       "Liberation Tigers of Tamil Eelam (LTTE)                        1606\n",
       "National Liberation Army of Colombia (ELN)                     1561\n",
       "Tehrik-i-Taliban Pakistan (TTP)                                1351\n",
       "Palestinians                                                   1125\n",
       "Houthi extremists (Ansar Allah)                                1062\n",
       "Al-Qaida in the Arabian Peninsula (AQAP)                       1020\n",
       "Nicaraguan Democratic Force (FDN)                               895\n",
       "Manuel Rodriguez Patriotic Front (FPMR)                         830\n",
       "Sikh Extremists                                                 716\n",
       "Corsican National Liberation Front (FLNC)                       639\n",
       "Al-Qaida in Iraq                                                638\n",
       "Muslim extremists                                               632\n",
       "Donetsk People's Republic                                       624\n",
       "African National Congress (South Africa)                        607\n",
       "Separatists                                                     589\n",
       "Tupac Amaru Revolutionary Movement (MRTA)                       557\n",
       "M-19 (Movement of April 19)                                     555\n",
       "Abu Sayyaf Group (ASG)                                          527\n",
       "Fulani extremists                                               511\n",
       "Sinai Province of the Islamic State                             445\n",
       "Palestinian Extremists                                          441\n",
       "People's Liberation Front (JVP)                                 433\n",
       "National Union for the Total Independence of Angola (UNITA)     432\n",
       "Hamas (Islamic Resistance Movement)                             408\n",
       "Hezbollah                                                       406\n",
       "Bangsamoro Islamic Freedom Movement (BIFM)                      391\n",
       "Algerian Islamic Extremists                                     373\n",
       "Narco-Terrorists                                                368\n",
       "Moro Islamic Liberation Front (MILF)                            366\n",
       "United Liberation Front of Assam (ULFA)                         357\n",
       "Tripoli Province of the Islamic State                           350\n",
       "Khorasan Chapter of the Islamic State                           343\n",
       "Protestant extremists                                           334\n",
       "Chechen Rebels                                                  328\n",
       "Death Squad                                                     326\n",
       "Lord's Resistance Army (LRA)                                    322\n",
       "Baloch Republican Army (BRA)                                    312\n",
       "Mozambique National Resistance Movement (MNR)                   311\n",
       "Movement of the Revolutionary Left (MIR) (Chile)                306\n",
       "Muslim Militants                                                294\n",
       "Gunmen                                                          280\n",
       "Al-Nusrah Front                                                 277\n",
       "Popular Liberation Army (EPL)                                   273\n",
       "Ulster Volunteer Force (UVF)                                    270\n",
       "Al-Qaida in the Islamic Maghreb (AQIM)                          262\n",
       "Ulster Freedom Fighters (UFF)                                   260\n",
       "Al-Gama'at al-Islamiyya (IG)                                    259\n",
       "Dev Sol                                                         252\n",
       "Neo-Nazi extremists                                             247\n",
       "Armed Islamic Group (GIA)                                       236\n",
       "Nicaraguan Resistance                                           231\n",
       "Tamils                                                          217\n",
       "Red Brigades                                                    217\n",
       "Allied Democratic Forces (ADF)                                  216\n",
       "Salafist Group for Preaching and Fighting (GSPC)                214\n",
       "Janjaweed                                                       213\n",
       "First of October Antifascist Resistance Group (GRAPO)           210\n",
       "Sandinista National Liberation Front (FSLN)                     209\n",
       "Luhansk People's Republic                                       209\n",
       "Simon Bolivar Guerrilla Coordinating Board (CGSB)               206\n",
       "Anti-Abortion extremists                                        199\n",
       "Hizbul Mujahideen (HM)                                          199\n",
       "Moro National Liberation Front (MNLF)                           197\n",
       "Islamist extremists                                             194\n",
       "Lashkar-e-Taiba (LeT)                                           190\n",
       "Palestinian Islamic Jihad (PIJ)                                 187\n",
       "Armenian Secret Army for the Liberation of Armenia              186\n",
       "Baloch Liberation Front (BLF)                                   185\n",
       "Baloch Liberation Army (BLA)                                    181\n",
       "National Democratic Front of Bodoland (NDFB)                    175\n",
       "Palestine Liberation Organization (PLO)                         175\n",
       "Muttahida Qami Movement (MQM)                                   174\n",
       "Left-Wing Militants                                             173\n",
       "Al-Aqsa Martyrs Brigade                                         172\n",
       "Hutu extremists                                                 168\n",
       "People's Liberation Forces (FPL)                                167\n",
       "Garo National Liberation Army                                   166\n",
       "Muslim Separatists                                              163\n",
       "Khmer Rouge                                                     160\n",
       "Guerrilla Army of the Poor (EGP)                                157\n",
       "Barqa Province of the Islamic State                             154\n",
       "Islamic Salvation Front (FIS)                                   153\n",
       "Popular Front for the Liberation of Palestine (PFLP)            153\n",
       "Runda Kumpulan Kecil (RKK)                                      150\n",
       "Islamic State of Iraq (ISI)                                     145\n",
       "Democratic Revolutionary Alliance (ARDE)                        141\n",
       "Lashkar-e-Jhangvi                                               139\n",
       "Name: gname, dtype: int64"
      ]
     },
     "execution_count": 113,
     "metadata": {},
     "output_type": "execute_result"
    }
   ],
   "source": [
    "data['gname'].value_counts() \n"
   ]
  },
  {
   "cell_type": "code",
   "execution_count": 114,
   "metadata": {},
   "outputs": [
    {
     "data": {
      "text/plain": [
       "(75527, 135)"
      ]
     },
     "execution_count": 114,
     "metadata": {},
     "output_type": "execute_result"
    }
   ],
   "source": [
    "data.shape\n"
   ]
  },
  {
   "cell_type": "code",
   "execution_count": 115,
   "metadata": {},
   "outputs": [],
   "source": [
    "#Selecting a subset of columns for random forest to identify the important features\n",
    "\n",
    "data.rename(columns={'eventid':'Event_ID','iyear':'Year','imonth':'Month','iday':'Day','extended':'Extended Incident','country':'Country','region':'Region','crit1':'Criterion 1','crit2':'Criterion 2','crit3':'Criterion 3','attacktype1':'AttackType','gname':'Group','suicide':'Suicide Attack','multiple':'Multiple','targtype1':'Target','nkill':'Killed','nwound':'Wounded','natlty1':'Nationality','weaptype1':'Weapon_type','INT_LOG':'International- Logistical','INT_IDEO':'International- Ideological','guncertain1':'Group Suspected','success':'Success'},inplace=True)\n",
    "data1=data[['Event_ID','Year','Month','Day','Extended Incident','Country','Region','Criterion 1','Criterion 2','Criterion 3','AttackType','Group','Killed','Wounded','Target','Suicide Attack','Multiple','Nationality','Weapon_type','International- Logistical','International- Ideological','Group Suspected','Success']]\n",
    "\n",
    "\n",
    "\n"
   ]
  },
  {
   "cell_type": "code",
   "execution_count": 116,
   "metadata": {},
   "outputs": [
    {
     "data": {
      "text/plain": [
       "(75527, 23)"
      ]
     },
     "execution_count": 116,
     "metadata": {},
     "output_type": "execute_result"
    }
   ],
   "source": [
    "data1.shape"
   ]
  },
  {
   "cell_type": "code",
   "execution_count": 117,
   "metadata": {},
   "outputs": [
    {
     "data": {
      "text/plain": [
       "Event_ID                         0\n",
       "Year                             0\n",
       "Month                            0\n",
       "Day                              0\n",
       "Extended Incident                0\n",
       "Country                          0\n",
       "Region                           0\n",
       "Criterion 1                      0\n",
       "Criterion 2                      0\n",
       "Criterion 3                      0\n",
       "AttackType                       0\n",
       "Group                            0\n",
       "Killed                        5713\n",
       "Wounded                       9655\n",
       "Target                           0\n",
       "Suicide Attack                   0\n",
       "Multiple                         0\n",
       "Nationality                    500\n",
       "Weapon_type                      0\n",
       "International- Logistical        0\n",
       "International- Ideological       0\n",
       "Group Suspected                373\n",
       "Success                          0\n",
       "dtype: int64"
      ]
     },
     "execution_count": 117,
     "metadata": {},
     "output_type": "execute_result"
    }
   ],
   "source": [
    "data1.isna().sum()"
   ]
  },
  {
   "cell_type": "code",
   "execution_count": 118,
   "metadata": {
    "scrolled": false
   },
   "outputs": [
    {
     "name": "stdout",
     "output_type": "stream",
     "text": [
      "<class 'pandas.core.frame.DataFrame'>\n",
      "Int64Index: 75527 entries, 11 to 181688\n",
      "Data columns (total 23 columns):\n",
      "Event_ID                      75527 non-null float64\n",
      "Year                          75527 non-null int64\n",
      "Month                         75527 non-null int64\n",
      "Day                           75527 non-null int64\n",
      "Extended Incident             75527 non-null int64\n",
      "Country                       75527 non-null int64\n",
      "Region                        75527 non-null int64\n",
      "Criterion 1                   75527 non-null int64\n",
      "Criterion 2                   75527 non-null int64\n",
      "Criterion 3                   75527 non-null int64\n",
      "AttackType                    75527 non-null int64\n",
      "Group                         75527 non-null object\n",
      "Killed                        69814 non-null float64\n",
      "Wounded                       65872 non-null float64\n",
      "Target                        75527 non-null int64\n",
      "Suicide Attack                75527 non-null int64\n",
      "Multiple                      75527 non-null float64\n",
      "Nationality                   75027 non-null float64\n",
      "Weapon_type                   75527 non-null int64\n",
      "International- Logistical     75527 non-null int64\n",
      "International- Ideological    75527 non-null int64\n",
      "Group Suspected               75154 non-null float64\n",
      "Success                       75527 non-null int64\n",
      "dtypes: float64(6), int64(16), object(1)\n",
      "memory usage: 13.8+ MB\n",
      "None\n"
     ]
    }
   ],
   "source": [
    "print(data1.info())"
   ]
  },
  {
   "cell_type": "code",
   "execution_count": 119,
   "metadata": {},
   "outputs": [],
   "source": [
    "data1_dropNA = data1.dropna(inplace=False)"
   ]
  },
  {
   "cell_type": "code",
   "execution_count": 120,
   "metadata": {},
   "outputs": [
    {
     "data": {
      "text/plain": [
       "(64722, 23)"
      ]
     },
     "execution_count": 120,
     "metadata": {},
     "output_type": "execute_result"
    }
   ],
   "source": [
    "data1_dropNA.shape"
   ]
  },
  {
   "cell_type": "code",
   "execution_count": 121,
   "metadata": {},
   "outputs": [],
   "source": [
    "data1_dropNA = data1_dropNA[(data1_dropNA['International- Ideological'] >= 0)]"
   ]
  },
  {
   "cell_type": "code",
   "execution_count": 122,
   "metadata": {},
   "outputs": [],
   "source": [
    "data1_dropNA = data1_dropNA[(data1_dropNA['International- Logistical'] >= 0)]"
   ]
  },
  {
   "cell_type": "code",
   "execution_count": 123,
   "metadata": {},
   "outputs": [
    {
     "name": "stdout",
     "output_type": "stream",
     "text": [
      "0    55648\n",
      "1     3868\n",
      "Name: International- Logistical, dtype: int64\n"
     ]
    }
   ],
   "source": [
    "print(data1_dropNA['International- Logistical'].value_counts())"
   ]
  },
  {
   "cell_type": "code",
   "execution_count": 124,
   "metadata": {},
   "outputs": [
    {
     "name": "stdout",
     "output_type": "stream",
     "text": [
      "0    45250\n",
      "1    14266\n",
      "Name: International- Ideological, dtype: int64\n"
     ]
    }
   ],
   "source": [
    "print(data1_dropNA['International- Ideological'].value_counts())"
   ]
  },
  {
   "cell_type": "code",
   "execution_count": 125,
   "metadata": {
    "scrolled": false
   },
   "outputs": [
    {
     "data": {
      "text/plain": [
       "Event_ID                      0\n",
       "Year                          0\n",
       "Month                         0\n",
       "Day                           0\n",
       "Extended Incident             0\n",
       "Country                       0\n",
       "Region                        0\n",
       "Criterion 1                   0\n",
       "Criterion 2                   0\n",
       "Criterion 3                   0\n",
       "AttackType                    0\n",
       "Group                         0\n",
       "Killed                        0\n",
       "Wounded                       0\n",
       "Target                        0\n",
       "Suicide Attack                0\n",
       "Multiple                      0\n",
       "Nationality                   0\n",
       "Weapon_type                   0\n",
       "International- Logistical     0\n",
       "International- Ideological    0\n",
       "Group Suspected               0\n",
       "Success                       0\n",
       "dtype: int64"
      ]
     },
     "execution_count": 125,
     "metadata": {},
     "output_type": "execute_result"
    }
   ],
   "source": [
    "data1_dropNA.isna().sum()"
   ]
  },
  {
   "cell_type": "code",
   "execution_count": 126,
   "metadata": {},
   "outputs": [],
   "source": [
    "#target Variable transforming\n",
    "le = preprocessing.LabelEncoder()\n",
    "data1_dropNA=data1_dropNA.copy()\n",
    "data1_dropNA['Group'] = le.fit_transform(data1_dropNA['Group']) #Encode all groups\n",
    "y = data1_dropNA['Group']"
   ]
  },
  {
   "cell_type": "code",
   "execution_count": 127,
   "metadata": {},
   "outputs": [
    {
     "data": {
      "text/plain": [
       "(59516,)"
      ]
     },
     "execution_count": 127,
     "metadata": {},
     "output_type": "execute_result"
    }
   ],
   "source": [
    "y.shape"
   ]
  },
  {
   "cell_type": "code",
   "execution_count": 128,
   "metadata": {},
   "outputs": [
    {
     "name": "stdout",
     "output_type": "stream",
     "text": [
      "{'Abu Sayyaf Group (ASG)': 0, 'African National Congress (South Africa)': 1, 'Al-Aqsa Martyrs Brigade': 2, \"Al-Gama'at al-Islamiyya (IG)\": 3, 'Al-Nusrah Front': 4, 'Al-Qaida in Iraq': 5, 'Al-Qaida in the Arabian Peninsula (AQAP)': 6, 'Al-Qaida in the Islamic Maghreb (AQIM)': 7, 'Al-Shabaab': 8, 'Algerian Islamic Extremists': 9, 'Allied Democratic Forces (ADF)': 10, 'Armed Islamic Group (GIA)': 11, 'Armenian Secret Army for the Liberation of Armenia': 12, 'Baloch Liberation Army (BLA)': 13, 'Baloch Liberation Front (BLF)': 14, 'Baloch Republican Army (BRA)': 15, 'Bangsamoro Islamic Freedom Movement (BIFM)': 16, 'Barqa Province of the Islamic State': 17, 'Basque Fatherland and Freedom (ETA)': 18, 'Boko Haram': 19, 'Chechen Rebels': 20, 'Communist Party of India - Maoist (CPI-Maoist)': 21, 'Corsican National Liberation Front (FLNC)': 22, 'Democratic Revolutionary Alliance (ARDE)': 23, 'Dev Sol': 24, \"Donetsk People's Republic\": 25, 'Farabundo Marti National Liberation Front (FMLN)': 26, 'First of October Antifascist Resistance Group (GRAPO)': 27, 'Fulani extremists': 28, 'Garo National Liberation Army': 29, 'Guerrilla Army of the Poor (EGP)': 30, 'Gunmen': 31, 'Hamas (Islamic Resistance Movement)': 32, 'Hezbollah': 33, 'Hizbul Mujahideen (HM)': 34, 'Houthi extremists (Ansar Allah)': 35, 'Hutu extremists': 36, 'Irish Republican Army (IRA)': 37, 'Islamic Salvation Front (FIS)': 38, 'Islamic State of Iraq (ISI)': 39, 'Islamic State of Iraq and the Levant (ISIL)': 40, 'Janjaweed': 41, 'Khmer Rouge': 42, 'Khorasan Chapter of the Islamic State': 43, \"Kurdistan Workers' Party (PKK)\": 44, 'Lashkar-e-Jhangvi': 45, 'Lashkar-e-Taiba (LeT)': 46, 'Liberation Tigers of Tamil Eelam (LTTE)': 47, \"Lord's Resistance Army (LRA)\": 48, \"Luhansk People's Republic\": 49, 'M-19 (Movement of April 19)': 50, 'Manuel Rodriguez Patriotic Front (FPMR)': 51, 'Maoists': 52, 'Moro Islamic Liberation Front (MILF)': 53, 'Moro National Liberation Front (MNLF)': 54, 'Movement of the Revolutionary Left (MIR) (Chile)': 55, 'Mozambique National Resistance Movement (MNR)': 56, 'Muttahida Qami Movement (MQM)': 57, 'National Democratic Front of Bodoland (NDFB)': 58, 'National Liberation Army of Colombia (ELN)': 59, 'National Union for the Total Independence of Angola (UNITA)': 60, \"New People's Army (NPA)\": 61, 'Nicaraguan Democratic Force (FDN)': 62, 'Nicaraguan Resistance': 63, 'Palestine Liberation Organization (PLO)': 64, 'Palestinian Extremists': 65, 'Palestinian Islamic Jihad (PIJ)': 66, 'Palestinians': 67, \"People's Liberation Forces (FPL)\": 68, \"People's Liberation Front (JVP)\": 69, 'Popular Front for the Liberation of Palestine (PFLP)': 70, 'Popular Liberation Army (EPL)': 71, 'Red Brigades': 72, 'Revolutionary Armed Forces of Colombia (FARC)': 73, 'Runda Kumpulan Kecil (RKK)': 74, 'Salafist Group for Preaching and Fighting (GSPC)': 75, 'Sandinista National Liberation Front (FSLN)': 76, 'Shining Path (SL)': 77, 'Sikh Extremists': 78, 'Simon Bolivar Guerrilla Coordinating Board (CGSB)': 79, 'Sinai Province of the Islamic State': 80, 'Taliban': 81, 'Tamils': 82, 'Tehrik-i-Taliban Pakistan (TTP)': 83, 'Tripoli Province of the Islamic State': 84, 'Tupac Amaru Revolutionary Movement (MRTA)': 85, 'Ulster Freedom Fighters (UFF)': 86, 'Ulster Volunteer Force (UVF)': 87, 'United Liberation Front of Assam (ULFA)': 88}\n"
     ]
    }
   ],
   "source": [
    "#mapped values\n",
    "le_name_mapping = dict(zip(le.classes_, le.transform(le.classes_)))\n",
    "print(le_name_mapping)"
   ]
  },
  {
   "cell_type": "code",
   "execution_count": 129,
   "metadata": {},
   "outputs": [],
   "source": [
    "X=data1_dropNA.drop(columns=['Group','Event_ID']) "
   ]
  },
  {
   "cell_type": "code",
   "execution_count": 130,
   "metadata": {},
   "outputs": [
    {
     "data": {
      "text/plain": [
       "(59516, 21)"
      ]
     },
     "execution_count": 130,
     "metadata": {},
     "output_type": "execute_result"
    }
   ],
   "source": [
    "X.shape"
   ]
  },
  {
   "cell_type": "code",
   "execution_count": 131,
   "metadata": {},
   "outputs": [],
   "source": [
    "#Finding important features using Random Forest\n",
    "#order is important, 30% test with random selection\n",
    "X_train_rf, X_test_rf, y_train_rf, y_test_rf = train_test_split(X, y, test_size=0.3, random_state=1)"
   ]
  },
  {
   "cell_type": "code",
   "execution_count": 132,
   "metadata": {},
   "outputs": [
    {
     "name": "stdout",
     "output_type": "stream",
     "text": [
      "<class 'pandas.core.frame.DataFrame'>\n",
      "Int64Index: 41661 entries, 6393 to 98971\n",
      "Data columns (total 21 columns):\n",
      "Year                          41661 non-null int64\n",
      "Month                         41661 non-null int64\n",
      "Day                           41661 non-null int64\n",
      "Extended Incident             41661 non-null int64\n",
      "Country                       41661 non-null int64\n",
      "Region                        41661 non-null int64\n",
      "Criterion 1                   41661 non-null int64\n",
      "Criterion 2                   41661 non-null int64\n",
      "Criterion 3                   41661 non-null int64\n",
      "AttackType                    41661 non-null int64\n",
      "Killed                        41661 non-null float64\n",
      "Wounded                       41661 non-null float64\n",
      "Target                        41661 non-null int64\n",
      "Suicide Attack                41661 non-null int64\n",
      "Multiple                      41661 non-null float64\n",
      "Nationality                   41661 non-null float64\n",
      "Weapon_type                   41661 non-null int64\n",
      "International- Logistical     41661 non-null int64\n",
      "International- Ideological    41661 non-null int64\n",
      "Group Suspected               41661 non-null float64\n",
      "Success                       41661 non-null int64\n",
      "dtypes: float64(5), int64(16)\n",
      "memory usage: 7.0 MB\n",
      "None\n"
     ]
    }
   ],
   "source": [
    "print(X_train_rf.info())"
   ]
  },
  {
   "cell_type": "code",
   "execution_count": 133,
   "metadata": {
    "scrolled": true
   },
   "outputs": [
    {
     "name": "stdout",
     "output_type": "stream",
     "text": [
      "<class 'pandas.core.frame.DataFrame'>\n",
      "Int64Index: 17855 entries, 5912 to 16542\n",
      "Data columns (total 21 columns):\n",
      "Year                          17855 non-null int64\n",
      "Month                         17855 non-null int64\n",
      "Day                           17855 non-null int64\n",
      "Extended Incident             17855 non-null int64\n",
      "Country                       17855 non-null int64\n",
      "Region                        17855 non-null int64\n",
      "Criterion 1                   17855 non-null int64\n",
      "Criterion 2                   17855 non-null int64\n",
      "Criterion 3                   17855 non-null int64\n",
      "AttackType                    17855 non-null int64\n",
      "Killed                        17855 non-null float64\n",
      "Wounded                       17855 non-null float64\n",
      "Target                        17855 non-null int64\n",
      "Suicide Attack                17855 non-null int64\n",
      "Multiple                      17855 non-null float64\n",
      "Nationality                   17855 non-null float64\n",
      "Weapon_type                   17855 non-null int64\n",
      "International- Logistical     17855 non-null int64\n",
      "International- Ideological    17855 non-null int64\n",
      "Group Suspected               17855 non-null float64\n",
      "Success                       17855 non-null int64\n",
      "dtypes: float64(5), int64(16)\n",
      "memory usage: 3.0 MB\n",
      "None\n"
     ]
    }
   ],
   "source": [
    "print(X_test_rf.info())"
   ]
  },
  {
   "cell_type": "code",
   "execution_count": 134,
   "metadata": {},
   "outputs": [
    {
     "data": {
      "text/plain": [
       "(17855, 21)"
      ]
     },
     "execution_count": 134,
     "metadata": {},
     "output_type": "execute_result"
    }
   ],
   "source": [
    "X_test_rf.shape"
   ]
  },
  {
   "cell_type": "code",
   "execution_count": 135,
   "metadata": {},
   "outputs": [
    {
     "data": {
      "text/plain": [
       "(41661, 21)"
      ]
     },
     "execution_count": 135,
     "metadata": {},
     "output_type": "execute_result"
    }
   ],
   "source": [
    "X_train_rf.shape"
   ]
  },
  {
   "cell_type": "code",
   "execution_count": 136,
   "metadata": {},
   "outputs": [
    {
     "data": {
      "text/plain": [
       "(41661,)"
      ]
     },
     "execution_count": 136,
     "metadata": {},
     "output_type": "execute_result"
    }
   ],
   "source": [
    "y_train_rf.shape"
   ]
  },
  {
   "cell_type": "code",
   "execution_count": 137,
   "metadata": {},
   "outputs": [
    {
     "data": {
      "text/plain": [
       "(17855,)"
      ]
     },
     "execution_count": 137,
     "metadata": {},
     "output_type": "execute_result"
    }
   ],
   "source": [
    "y_test_rf.shape"
   ]
  },
  {
   "cell_type": "markdown",
   "metadata": {},
   "source": [
    "### 3. Feature Selection "
   ]
  },
  {
   "cell_type": "code",
   "execution_count": 138,
   "metadata": {},
   "outputs": [
    {
     "name": "stdout",
     "output_type": "stream",
     "text": [
      "Features sorted by their score:\n",
      "[(0.2551, 'Country'), (0.1855, 'Nationality'), (0.1484, 'Region'), (0.1202, 'Year'), (0.0446, 'International- Ideological'), (0.0435, 'Day'), (0.0366, 'Month'), (0.0344, 'Target'), (0.0239, 'Killed'), (0.0214, 'AttackType'), (0.0202, 'Wounded'), (0.017, 'Weapon_type'), (0.0137, 'International- Logistical'), (0.0083, 'Multiple'), (0.0081, 'Group Suspected'), (0.0059, 'Criterion 3'), (0.0045, 'Success'), (0.0042, 'Extended Incident'), (0.0037, 'Suicide Attack'), (0.0009, 'Criterion 2'), (0.0001, 'Criterion 1')]\n"
     ]
    }
   ],
   "source": [
    "# Variable importance\n",
    "rf = RandomForestClassifier()  \n",
    "rf.fit(X_train_rf,y_train_rf)\n",
    "print (\"Features sorted by their score:\" )\n",
    "print (sorted(zip(map(lambda x: round(x, 4), rf.feature_importances_), X_train_rf), reverse=True) )"
   ]
  },
  {
   "cell_type": "markdown",
   "metadata": {},
   "source": [
    "### 4. Model Selection"
   ]
  },
  {
   "cell_type": "markdown",
   "metadata": {},
   "source": [
    "### Decision Tree Classifier "
   ]
  },
  {
   "cell_type": "code",
   "execution_count": 139,
   "metadata": {},
   "outputs": [
    {
     "name": "stdout",
     "output_type": "stream",
     "text": [
      "Decision Tree Classifier\n"
     ]
    }
   ],
   "source": [
    "print(\"Decision Tree Classifier\")\n",
    "clf = tree.DecisionTreeClassifier()\n",
    "clf = clf.fit(X_train_rf, y_train_rf)"
   ]
  },
  {
   "cell_type": "code",
   "execution_count": 140,
   "metadata": {},
   "outputs": [
    {
     "name": "stdout",
     "output_type": "stream",
     "text": [
      "Precision: 0.76\n",
      "Recall:  0.76\n",
      "F1-score:  0.76\n"
     ]
    }
   ],
   "source": [
    "y_pred = clf.predict(X_test_rf)\n",
    "print(\"Precision: %0.2f\" %precision_score(y_test_rf, y_pred , average=\"macro\"))\n",
    "print(\"Recall:  %0.2f\" %recall_score(y_test_rf, y_pred , average=\"macro\"))\n",
    "print(\"F1-score:  %0.2f\" %f1_score(y_test_rf, y_pred , average=\"macro\"))"
   ]
  },
  {
   "cell_type": "code",
   "execution_count": 141,
   "metadata": {},
   "outputs": [],
   "source": [
    "#The F1 score is low, we need to better process the data to increase the scores"
   ]
  },
  {
   "cell_type": "markdown",
   "metadata": {},
   "source": [
    "### Random Forest Classifier "
   ]
  },
  {
   "cell_type": "code",
   "execution_count": 142,
   "metadata": {},
   "outputs": [
    {
     "name": "stdout",
     "output_type": "stream",
     "text": [
      "Random Forest Classifier\n"
     ]
    },
    {
     "data": {
      "text/plain": [
       "RandomForestClassifier(bootstrap=True, class_weight=None, criterion='gini',\n",
       "            max_depth=None, max_features='auto', max_leaf_nodes=None,\n",
       "            min_impurity_decrease=0.0, min_impurity_split=None,\n",
       "            min_samples_leaf=1, min_samples_split=2,\n",
       "            min_weight_fraction_leaf=0.0, n_estimators=10, n_jobs=1,\n",
       "            oob_score=False, random_state=None, verbose=0,\n",
       "            warm_start=False)"
      ]
     },
     "execution_count": 142,
     "metadata": {},
     "output_type": "execute_result"
    }
   ],
   "source": [
    "print(\"Random Forest Classifier\")\n",
    "rf = RandomForestClassifier()  \n",
    "rf.fit(X_train_rf,y_train_rf)"
   ]
  },
  {
   "cell_type": "code",
   "execution_count": 143,
   "metadata": {
    "scrolled": true
   },
   "outputs": [
    {
     "name": "stdout",
     "output_type": "stream",
     "text": [
      "Precision: 0.80\n",
      "Recall:  0.75\n",
      "F1-score:  0.76\n"
     ]
    },
    {
     "name": "stderr",
     "output_type": "stream",
     "text": [
      "C:\\Users\\Iptisha\\Anaconda3\\lib\\site-packages\\sklearn\\metrics\\classification.py:1135: UndefinedMetricWarning: Precision is ill-defined and being set to 0.0 in labels with no predicted samples.\n",
      "  'precision', 'predicted', average, warn_for)\n",
      "C:\\Users\\Iptisha\\Anaconda3\\lib\\site-packages\\sklearn\\metrics\\classification.py:1135: UndefinedMetricWarning: F-score is ill-defined and being set to 0.0 in labels with no predicted samples.\n",
      "  'precision', 'predicted', average, warn_for)\n"
     ]
    }
   ],
   "source": [
    "y_pred = rf.predict(X_test_rf)\n",
    "print(\"Precision: %0.2f\" %precision_score(y_test_rf, y_pred , average=\"macro\"))\n",
    "print(\"Recall:  %0.2f\" %recall_score(y_test_rf, y_pred , average=\"macro\"))\n",
    "print(\"F1-score:  %0.2f\" %f1_score(y_test_rf, y_pred , average=\"macro\"))"
   ]
  },
  {
   "cell_type": "code",
   "execution_count": 144,
   "metadata": {},
   "outputs": [],
   "source": [
    "#The F1 score is still low but the precision is slightly better, we need to better process the data to increase the scores"
   ]
  },
  {
   "cell_type": "code",
   "execution_count": 145,
   "metadata": {},
   "outputs": [],
   "source": [
    "#Random Forest has a better Precision and F1 score\n",
    "#Modeling with only important features and using cross validation to improve the model performance"
   ]
  },
  {
   "cell_type": "markdown",
   "metadata": {},
   "source": [
    "### 5. Modeling -  Ramdom Forest with Important Features and CV to predict the group responsible "
   ]
  },
  {
   "cell_type": "code",
   "execution_count": 146,
   "metadata": {},
   "outputs": [],
   "source": [
    "X_CV=X[['Country','Nationality','Region','Year','Day','Month','International- Ideological','Target','Killed','AttackType','Wounded','Weapon_type']]\n"
   ]
  },
  {
   "cell_type": "code",
   "execution_count": 147,
   "metadata": {},
   "outputs": [],
   "source": [
    "y_cv=y.copy()"
   ]
  },
  {
   "cell_type": "code",
   "execution_count": 148,
   "metadata": {},
   "outputs": [
    {
     "data": {
      "text/plain": [
       "(59516, 12)"
      ]
     },
     "execution_count": 148,
     "metadata": {},
     "output_type": "execute_result"
    }
   ],
   "source": [
    "X_CV.shape"
   ]
  },
  {
   "cell_type": "code",
   "execution_count": 149,
   "metadata": {},
   "outputs": [
    {
     "data": {
      "text/plain": [
       "(59516,)"
      ]
     },
     "execution_count": 149,
     "metadata": {},
     "output_type": "execute_result"
    }
   ],
   "source": [
    "y_cv.shape"
   ]
  },
  {
   "cell_type": "code",
   "execution_count": 150,
   "metadata": {},
   "outputs": [],
   "source": [
    "# for CV, converting to numpy array\n",
    "X = np.array(X_CV)\n",
    "y = np.array(y_cv)"
   ]
  },
  {
   "cell_type": "code",
   "execution_count": 151,
   "metadata": {},
   "outputs": [],
   "source": [
    "X_train, X_test, y_train, y_test = train_test_split(X, y, test_size=0.2, random_state=1)"
   ]
  },
  {
   "cell_type": "code",
   "execution_count": 152,
   "metadata": {},
   "outputs": [
    {
     "name": "stdout",
     "output_type": "stream",
     "text": [
      "Random Forest Classifier With CV and Feature Selection\n"
     ]
    },
    {
     "name": "stderr",
     "output_type": "stream",
     "text": [
      "C:\\Users\\Iptisha\\Anaconda3\\lib\\site-packages\\sklearn\\model_selection\\_split.py:605: Warning: The least populated class in y has only 1 members, which is too few. The minimum number of members in any class cannot be less than n_splits=10.\n",
      "  % (min_groups, self.n_splits)), Warning)\n",
      "C:\\Users\\Iptisha\\Anaconda3\\lib\\site-packages\\sklearn\\metrics\\classification.py:1135: UndefinedMetricWarning: Precision is ill-defined and being set to 0.0 in labels with no predicted samples.\n",
      "  'precision', 'predicted', average, warn_for)\n",
      "C:\\Users\\Iptisha\\Anaconda3\\lib\\site-packages\\sklearn\\metrics\\classification.py:1135: UndefinedMetricWarning: Precision is ill-defined and being set to 0.0 in labels with no predicted samples.\n",
      "  'precision', 'predicted', average, warn_for)\n",
      "C:\\Users\\Iptisha\\Anaconda3\\lib\\site-packages\\sklearn\\metrics\\classification.py:1135: UndefinedMetricWarning: Precision is ill-defined and being set to 0.0 in labels with no predicted samples.\n",
      "  'precision', 'predicted', average, warn_for)\n",
      "C:\\Users\\Iptisha\\Anaconda3\\lib\\site-packages\\sklearn\\metrics\\classification.py:1135: UndefinedMetricWarning: Precision is ill-defined and being set to 0.0 in labels with no predicted samples.\n",
      "  'precision', 'predicted', average, warn_for)\n",
      "C:\\Users\\Iptisha\\Anaconda3\\lib\\site-packages\\sklearn\\metrics\\classification.py:1135: UndefinedMetricWarning: Precision is ill-defined and being set to 0.0 in labels with no predicted samples.\n",
      "  'precision', 'predicted', average, warn_for)\n",
      "C:\\Users\\Iptisha\\Anaconda3\\lib\\site-packages\\sklearn\\metrics\\classification.py:1135: UndefinedMetricWarning: Precision is ill-defined and being set to 0.0 in labels with no predicted samples.\n",
      "  'precision', 'predicted', average, warn_for)\n",
      "C:\\Users\\Iptisha\\Anaconda3\\lib\\site-packages\\sklearn\\metrics\\classification.py:1135: UndefinedMetricWarning: Precision is ill-defined and being set to 0.0 in labels with no predicted samples.\n",
      "  'precision', 'predicted', average, warn_for)\n",
      "C:\\Users\\Iptisha\\Anaconda3\\lib\\site-packages\\sklearn\\metrics\\classification.py:1135: UndefinedMetricWarning: Precision is ill-defined and being set to 0.0 in labels with no predicted samples.\n",
      "  'precision', 'predicted', average, warn_for)\n",
      "C:\\Users\\Iptisha\\Anaconda3\\lib\\site-packages\\sklearn\\metrics\\classification.py:1135: UndefinedMetricWarning: Precision is ill-defined and being set to 0.0 in labels with no predicted samples.\n",
      "  'precision', 'predicted', average, warn_for)\n",
      "C:\\Users\\Iptisha\\Anaconda3\\lib\\site-packages\\sklearn\\model_selection\\_split.py:605: Warning: The least populated class in y has only 1 members, which is too few. The minimum number of members in any class cannot be less than n_splits=10.\n",
      "  % (min_groups, self.n_splits)), Warning)\n",
      "C:\\Users\\Iptisha\\Anaconda3\\lib\\site-packages\\sklearn\\metrics\\classification.py:1137: UndefinedMetricWarning: Recall is ill-defined and being set to 0.0 in labels with no true samples.\n",
      "  'recall', 'true', average, warn_for)\n",
      "C:\\Users\\Iptisha\\Anaconda3\\lib\\site-packages\\sklearn\\metrics\\classification.py:1137: UndefinedMetricWarning: Recall is ill-defined and being set to 0.0 in labels with no true samples.\n",
      "  'recall', 'true', average, warn_for)\n",
      "C:\\Users\\Iptisha\\Anaconda3\\lib\\site-packages\\sklearn\\model_selection\\_split.py:605: Warning: The least populated class in y has only 1 members, which is too few. The minimum number of members in any class cannot be less than n_splits=10.\n",
      "  % (min_groups, self.n_splits)), Warning)\n",
      "C:\\Users\\Iptisha\\Anaconda3\\lib\\site-packages\\sklearn\\metrics\\classification.py:1135: UndefinedMetricWarning: F-score is ill-defined and being set to 0.0 in labels with no predicted samples.\n",
      "  'precision', 'predicted', average, warn_for)\n",
      "C:\\Users\\Iptisha\\Anaconda3\\lib\\site-packages\\sklearn\\metrics\\classification.py:1135: UndefinedMetricWarning: F-score is ill-defined and being set to 0.0 in labels with no predicted samples.\n",
      "  'precision', 'predicted', average, warn_for)\n",
      "C:\\Users\\Iptisha\\Anaconda3\\lib\\site-packages\\sklearn\\metrics\\classification.py:1135: UndefinedMetricWarning: F-score is ill-defined and being set to 0.0 in labels with no predicted samples.\n",
      "  'precision', 'predicted', average, warn_for)\n",
      "C:\\Users\\Iptisha\\Anaconda3\\lib\\site-packages\\sklearn\\metrics\\classification.py:1135: UndefinedMetricWarning: F-score is ill-defined and being set to 0.0 in labels with no predicted samples.\n",
      "  'precision', 'predicted', average, warn_for)\n",
      "C:\\Users\\Iptisha\\Anaconda3\\lib\\site-packages\\sklearn\\metrics\\classification.py:1135: UndefinedMetricWarning: F-score is ill-defined and being set to 0.0 in labels with no predicted samples.\n",
      "  'precision', 'predicted', average, warn_for)\n",
      "C:\\Users\\Iptisha\\Anaconda3\\lib\\site-packages\\sklearn\\metrics\\classification.py:1135: UndefinedMetricWarning: F-score is ill-defined and being set to 0.0 in labels with no predicted samples.\n",
      "  'precision', 'predicted', average, warn_for)\n",
      "C:\\Users\\Iptisha\\Anaconda3\\lib\\site-packages\\sklearn\\metrics\\classification.py:1135: UndefinedMetricWarning: F-score is ill-defined and being set to 0.0 in labels with no predicted samples.\n",
      "  'precision', 'predicted', average, warn_for)\n",
      "C:\\Users\\Iptisha\\Anaconda3\\lib\\site-packages\\sklearn\\metrics\\classification.py:1135: UndefinedMetricWarning: F-score is ill-defined and being set to 0.0 in labels with no predicted samples.\n",
      "  'precision', 'predicted', average, warn_for)\n",
      "C:\\Users\\Iptisha\\Anaconda3\\lib\\site-packages\\sklearn\\metrics\\classification.py:1137: UndefinedMetricWarning: F-score is ill-defined and being set to 0.0 in labels with no true samples.\n",
      "  'recall', 'true', average, warn_for)\n",
      "C:\\Users\\Iptisha\\Anaconda3\\lib\\site-packages\\sklearn\\metrics\\classification.py:1135: UndefinedMetricWarning: F-score is ill-defined and being set to 0.0 in labels with no predicted samples.\n",
      "  'precision', 'predicted', average, warn_for)\n"
     ]
    },
    {
     "name": "stdout",
     "output_type": "stream",
     "text": [
      "Precision: 81.39%\n",
      "Recall: 79.48%\n",
      "F1-Score: 78.77%\n"
     ]
    },
    {
     "name": "stderr",
     "output_type": "stream",
     "text": [
      "C:\\Users\\Iptisha\\Anaconda3\\lib\\site-packages\\sklearn\\metrics\\classification.py:1135: UndefinedMetricWarning: F-score is ill-defined and being set to 0.0 in labels with no predicted samples.\n",
      "  'precision', 'predicted', average, warn_for)\n",
      "C:\\Users\\Iptisha\\Anaconda3\\lib\\site-packages\\sklearn\\metrics\\classification.py:1137: UndefinedMetricWarning: F-score is ill-defined and being set to 0.0 in labels with no true samples.\n",
      "  'recall', 'true', average, warn_for)\n"
     ]
    }
   ],
   "source": [
    "print(\"Random Forest Classifier With CV and Feature Selection\")\n",
    "rf = RandomForestClassifier()  \n",
    "\n",
    "precision = cross_val_score(rf, X, y, cv=10,scoring=\"precision_weighted\")\n",
    "recall = cross_val_score(rf, X, y, cv=10,scoring=\"recall_weighted\")\n",
    "f1 = cross_val_score(rf, X, y, cv=10,scoring=\"f1_weighted\")\n",
    "print(\"Precision: \" + str(round(100*precision.mean(), 2)) + \"%\")\n",
    "print(\"Recall: \" + str(round(100*recall.mean(), 2)) + \"%\")\n",
    "print(\"F1-Score: \" + str(round(100*f1.mean(), 2)) + \"%\")\n",
    "\n"
   ]
  },
  {
   "cell_type": "code",
   "execution_count": 153,
   "metadata": {},
   "outputs": [],
   "source": [
    "#There is a slight improvment in the model fit after feature selection"
   ]
  },
  {
   "cell_type": "code",
   "execution_count": 154,
   "metadata": {},
   "outputs": [
    {
     "name": "stdout",
     "output_type": "stream",
     "text": [
      "[[ 42   0   0 ...   0   0   0]\n",
      " [  0 116   0 ...   0   0   0]\n",
      " [  0   0  15 ...   0   0   0]\n",
      " ...\n",
      " [  0   0   0 ...   4   2   0]\n",
      " [  0   0   0 ...   5   1   0]\n",
      " [  0   0   0 ...   0   0  39]]\n",
      "             precision    recall  f1-score   support\n",
      "\n",
      "          0       0.51      0.38      0.43       112\n",
      "          1       1.00      1.00      1.00       116\n",
      "          2       0.41      0.47      0.43        32\n",
      "          3       1.00      1.00      1.00        64\n",
      "          4       0.86      0.92      0.89        26\n",
      "          5       0.91      0.95      0.93       124\n",
      "          6       0.97      0.98      0.98       187\n",
      "          7       0.93      0.88      0.90        48\n",
      "          8       0.99      1.00      0.99       456\n",
      "          9       0.00      0.00      0.00         7\n",
      "         10       0.93      0.93      0.93        42\n",
      "         11       0.78      0.70      0.74        40\n",
      "         12       0.75      0.78      0.76        27\n",
      "         13       0.56      0.30      0.39        33\n",
      "         14       0.50      0.44      0.47        27\n",
      "         15       0.75      0.82      0.78        55\n",
      "         16       0.57      0.47      0.51        75\n",
      "         17       0.73      0.38      0.50        21\n",
      "         18       0.98      0.99      0.99       383\n",
      "         19       0.99      0.99      0.99       352\n",
      "         20       1.00      1.00      1.00        62\n",
      "         21       0.82      0.98      0.89       334\n",
      "         22       1.00      0.99      1.00       128\n",
      "         23       0.50      0.35      0.41        17\n",
      "         24       0.79      0.68      0.73        44\n",
      "         25       0.79      0.93      0.86       105\n",
      "         26       0.99      1.00      0.99       511\n",
      "         27       1.00      0.90      0.95        29\n",
      "         28       1.00      1.00      1.00         1\n",
      "         29       0.25      0.09      0.14        32\n",
      "         30       1.00      0.94      0.97        18\n",
      "         32       0.62      0.57      0.59        82\n",
      "         33       0.84      0.84      0.84        75\n",
      "         34       0.48      0.50      0.49        30\n",
      "         35       0.98      0.98      0.98       158\n",
      "         36       0.96      0.86      0.91        28\n",
      "         37       0.93      0.98      0.95       340\n",
      "         38       0.92      0.89      0.91        27\n",
      "         39       0.67      0.55      0.60        22\n",
      "         40       0.98      0.99      0.99       914\n",
      "         41       1.00      0.96      0.98        26\n",
      "         42       1.00      1.00      1.00        27\n",
      "         43       0.79      0.88      0.83        51\n",
      "         44       0.96      0.97      0.97       434\n",
      "         45       0.43      0.21      0.28        29\n",
      "         46       0.65      0.72      0.68        39\n",
      "         47       0.95      0.94      0.94       317\n",
      "         48       0.88      0.83      0.85        35\n",
      "         49       0.59      0.28      0.38        36\n",
      "         50       0.59      0.45      0.51       106\n",
      "         51       0.98      0.99      0.99       164\n",
      "         52       0.00      0.00      0.00         1\n",
      "         53       0.63      0.52      0.57        69\n",
      "         54       0.80      0.46      0.58        35\n",
      "         55       0.96      0.93      0.94        27\n",
      "         56       0.97      0.97      0.97        58\n",
      "         57       1.00      0.95      0.97        40\n",
      "         58       0.67      0.26      0.37        39\n",
      "         59       0.58      0.71      0.64       279\n",
      "         60       0.98      0.99      0.98        80\n",
      "         61       0.79      0.89      0.84       551\n",
      "         62       0.90      0.94      0.92       100\n",
      "         63       0.92      0.92      0.92        51\n",
      "         64       0.94      0.87      0.91        39\n",
      "         65       0.91      0.95      0.93       101\n",
      "         66       0.55      0.28      0.37        39\n",
      "         67       0.83      0.93      0.87       189\n",
      "         68       1.00      1.00      1.00        33\n",
      "         69       0.82      0.81      0.82        85\n",
      "         70       0.36      0.15      0.21        33\n",
      "         71       0.42      0.23      0.30        47\n",
      "         72       0.97      0.97      0.97        34\n",
      "         73       0.76      0.77      0.77       483\n",
      "         74       1.00      1.00      1.00        34\n",
      "         75       0.73      0.89      0.80        37\n",
      "         76       1.00      0.97      0.99        36\n",
      "         77       0.93      0.99      0.96       775\n",
      "         78       0.98      0.98      0.98       133\n",
      "         79       0.81      0.44      0.57        50\n",
      "         80       1.00      0.99      0.99        90\n",
      "         81       0.99      0.99      0.99      1338\n",
      "         82       0.97      0.97      0.97        33\n",
      "         83       0.79      0.88      0.83       257\n",
      "         84       0.77      0.89      0.82        45\n",
      "         85       0.84      0.54      0.66       109\n",
      "         86       0.27      0.19      0.22        21\n",
      "         87       0.25      0.06      0.10        17\n",
      "         88       0.87      0.57      0.69        68\n",
      "\n",
      "avg / total       0.89      0.89      0.89     11904\n",
      "\n"
     ]
    },
    {
     "name": "stderr",
     "output_type": "stream",
     "text": [
      "C:\\Users\\Iptisha\\Anaconda3\\lib\\site-packages\\sklearn\\metrics\\classification.py:1135: UndefinedMetricWarning: Precision and F-score are ill-defined and being set to 0.0 in labels with no predicted samples.\n",
      "  'precision', 'predicted', average, warn_for)\n"
     ]
    }
   ],
   "source": [
    "rf = rf.fit(X_train, y_train)\n",
    "y_pred = rf.predict(X_test)\n",
    "print(confusion_matrix(y_test, y_pred))\n",
    "print(classification_report(y_test, y_pred))"
   ]
  },
  {
   "cell_type": "code",
   "execution_count": 155,
   "metadata": {},
   "outputs": [
    {
     "name": "stdout",
     "output_type": "stream",
     "text": [
      "Misclassified samples: 1259\n"
     ]
    }
   ],
   "source": [
    "count_misclassified = (y_test != y_pred).sum()\n",
    "print('Misclassified samples: {}'.format(count_misclassified))\n",
    "# algorithm was able to achieve a classification precision of 89% on the held out set. Only 1274 samples were misclassified out of 11904 test samples"
   ]
  },
  {
   "cell_type": "code",
   "execution_count": 156,
   "metadata": {},
   "outputs": [],
   "source": [
    "##Logistic Regression to model the predictors of successful hijackings(target variable – ‘success’ as 1 or 0 )  "
   ]
  },
  {
   "cell_type": "markdown",
   "metadata": {},
   "source": [
    "### 6. Logistic Regression to  model the predictors of successful hijackings"
   ]
  },
  {
   "cell_type": "code",
   "execution_count": 157,
   "metadata": {},
   "outputs": [],
   "source": [
    "data_logit= data1_dropNA.copy()"
   ]
  },
  {
   "cell_type": "code",
   "execution_count": 158,
   "metadata": {},
   "outputs": [
    {
     "data": {
      "text/plain": [
       "(59516, 23)"
      ]
     },
     "execution_count": 158,
     "metadata": {},
     "output_type": "execute_result"
    }
   ],
   "source": [
    "data_logit.shape"
   ]
  },
  {
   "cell_type": "code",
   "execution_count": 159,
   "metadata": {},
   "outputs": [
    {
     "data": {
      "text/plain": [
       "Index(['Event_ID', 'Year', 'Month', 'Day', 'Extended Incident', 'Country',\n",
       "       'Region', 'Criterion 1', 'Criterion 2', 'Criterion 3', 'AttackType',\n",
       "       'Group', 'Killed', 'Wounded', 'Target', 'Suicide Attack', 'Multiple',\n",
       "       'Nationality', 'Weapon_type', 'International- Logistical',\n",
       "       'International- Ideological', 'Group Suspected', 'Success'],\n",
       "      dtype='object')"
      ]
     },
     "execution_count": 159,
     "metadata": {},
     "output_type": "execute_result"
    }
   ],
   "source": [
    "data_logit.columns"
   ]
  },
  {
   "cell_type": "code",
   "execution_count": 160,
   "metadata": {},
   "outputs": [],
   "source": [
    "# for CV, converting to numpy array\n",
    "X_logit = np.array(data_logit.drop(columns=['Success','Event_ID']).values)\n",
    "y_logit = np.array(data_logit['Success'].values)"
   ]
  },
  {
   "cell_type": "code",
   "execution_count": 161,
   "metadata": {},
   "outputs": [],
   "source": [
    "X_train, X_test, y_train, y_test = train_test_split(X_logit, y_logit, test_size=0.2, random_state=1)"
   ]
  },
  {
   "cell_type": "code",
   "execution_count": 162,
   "metadata": {},
   "outputs": [],
   "source": [
    "logreg = LogisticRegression()\n",
    "\n",
    "# Do k-fold cross-validation\n",
    "cv_score  = cross_val_score(logreg, # Pipeline\n",
    "                             X_train, # Feature matrix\n",
    "                             y_train, # Target vector\n",
    "                             cv=10, # Cross-validation technique\n",
    "                             scoring=\"accuracy\", # Loss function\n",
    "                             n_jobs=-1) # Use all CPU scores"
   ]
  },
  {
   "cell_type": "code",
   "execution_count": 163,
   "metadata": {},
   "outputs": [
    {
     "data": {
      "text/plain": [
       "0.9071032523898988"
      ]
     },
     "execution_count": 163,
     "metadata": {},
     "output_type": "execute_result"
    }
   ],
   "source": [
    "cv_score.mean()"
   ]
  },
  {
   "cell_type": "code",
   "execution_count": 164,
   "metadata": {},
   "outputs": [],
   "source": [
    "#Model accuracy is 0.9071032523898988"
   ]
  },
  {
   "cell_type": "code",
   "execution_count": 165,
   "metadata": {},
   "outputs": [
    {
     "data": {
      "text/plain": [
       "LogisticRegression(C=1.0, class_weight=None, dual=False, fit_intercept=True,\n",
       "          intercept_scaling=1, max_iter=100, multi_class='ovr', n_jobs=1,\n",
       "          penalty='l2', random_state=None, solver='liblinear', tol=0.0001,\n",
       "          verbose=0, warm_start=False)"
      ]
     },
     "execution_count": 165,
     "metadata": {},
     "output_type": "execute_result"
    }
   ],
   "source": [
    "#training the algorithm\n",
    "logreg.fit(X_train, y_train)"
   ]
  },
  {
   "cell_type": "code",
   "execution_count": 166,
   "metadata": {},
   "outputs": [],
   "source": [
    "y_pred = logreg.predict(X_test)"
   ]
  },
  {
   "cell_type": "code",
   "execution_count": 168,
   "metadata": {},
   "outputs": [
    {
     "name": "stdout",
     "output_type": "stream",
     "text": [
      "[0.0550593]\n",
      "[[ 0.00167026  0.00185335 -0.00666609  1.16521231 -0.00215948 -0.10247145\n",
      "   0.04109848 -0.02379767  0.31830825  0.08894831 -0.00431442  0.06107435\n",
      "   0.11216751 -0.00160929 -1.14647681  0.22930896  0.00323812 -0.14562004\n",
      "  -0.24497697 -0.2290709   0.04329881]]\n"
     ]
    }
   ],
   "source": [
    "#To retrieve the intercept:\n",
    "print(logreg.intercept_)\n",
    "#For retrieving the slope:\n",
    "print(logreg.coef_)"
   ]
  },
  {
   "cell_type": "code",
   "execution_count": 171,
   "metadata": {},
   "outputs": [
    {
     "data": {
      "text/html": [
       "<div>\n",
       "<style scoped>\n",
       "    .dataframe tbody tr th:only-of-type {\n",
       "        vertical-align: middle;\n",
       "    }\n",
       "\n",
       "    .dataframe tbody tr th {\n",
       "        vertical-align: top;\n",
       "    }\n",
       "\n",
       "    .dataframe thead th {\n",
       "        text-align: right;\n",
       "    }\n",
       "</style>\n",
       "<table border=\"1\" class=\"dataframe\">\n",
       "  <thead>\n",
       "    <tr style=\"text-align: right;\">\n",
       "      <th></th>\n",
       "      <th>Actual</th>\n",
       "      <th>Predicted</th>\n",
       "    </tr>\n",
       "  </thead>\n",
       "  <tbody>\n",
       "    <tr>\n",
       "      <th>0</th>\n",
       "      <td>1</td>\n",
       "      <td>1</td>\n",
       "    </tr>\n",
       "    <tr>\n",
       "      <th>1</th>\n",
       "      <td>1</td>\n",
       "      <td>1</td>\n",
       "    </tr>\n",
       "    <tr>\n",
       "      <th>2</th>\n",
       "      <td>1</td>\n",
       "      <td>1</td>\n",
       "    </tr>\n",
       "    <tr>\n",
       "      <th>3</th>\n",
       "      <td>1</td>\n",
       "      <td>1</td>\n",
       "    </tr>\n",
       "    <tr>\n",
       "      <th>4</th>\n",
       "      <td>1</td>\n",
       "      <td>1</td>\n",
       "    </tr>\n",
       "    <tr>\n",
       "      <th>5</th>\n",
       "      <td>1</td>\n",
       "      <td>1</td>\n",
       "    </tr>\n",
       "    <tr>\n",
       "      <th>6</th>\n",
       "      <td>1</td>\n",
       "      <td>1</td>\n",
       "    </tr>\n",
       "    <tr>\n",
       "      <th>7</th>\n",
       "      <td>1</td>\n",
       "      <td>1</td>\n",
       "    </tr>\n",
       "    <tr>\n",
       "      <th>8</th>\n",
       "      <td>1</td>\n",
       "      <td>1</td>\n",
       "    </tr>\n",
       "    <tr>\n",
       "      <th>9</th>\n",
       "      <td>1</td>\n",
       "      <td>1</td>\n",
       "    </tr>\n",
       "  </tbody>\n",
       "</table>\n",
       "</div>"
      ],
      "text/plain": [
       "   Actual  Predicted\n",
       "0       1          1\n",
       "1       1          1\n",
       "2       1          1\n",
       "3       1          1\n",
       "4       1          1\n",
       "5       1          1\n",
       "6       1          1\n",
       "7       1          1\n",
       "8       1          1\n",
       "9       1          1"
      ]
     },
     "execution_count": 171,
     "metadata": {},
     "output_type": "execute_result"
    }
   ],
   "source": [
    "df = pd.DataFrame({'Actual': y_test.flatten(), 'Predicted': y_pred.flatten()})\n",
    "df.head(10)"
   ]
  },
  {
   "cell_type": "code",
   "execution_count": 173,
   "metadata": {},
   "outputs": [
    {
     "name": "stdout",
     "output_type": "stream",
     "text": [
      "Accuracy: 0.9074260752688172\n"
     ]
    }
   ],
   "source": [
    "print('Accuracy:', metrics.accuracy_score(y_test, y_pred))  "
   ]
  },
  {
   "cell_type": "markdown",
   "metadata": {},
   "source": [
    "### 7. Text analytics on ransom note  "
   ]
  },
  {
   "cell_type": "code",
   "execution_count": 196,
   "metadata": {},
   "outputs": [],
   "source": [
    "motive =data[['motive']]"
   ]
  },
  {
   "cell_type": "code",
   "execution_count": 197,
   "metadata": {},
   "outputs": [],
   "source": [
    "motive = motive.dropna(inplace=False)"
   ]
  },
  {
   "cell_type": "code",
   "execution_count": 210,
   "metadata": {
    "scrolled": true
   },
   "outputs": [
    {
     "data": {
      "text/html": [
       "<div>\n",
       "<style scoped>\n",
       "    .dataframe tbody tr th:only-of-type {\n",
       "        vertical-align: middle;\n",
       "    }\n",
       "\n",
       "    .dataframe tbody tr th {\n",
       "        vertical-align: top;\n",
       "    }\n",
       "\n",
       "    .dataframe thead th {\n",
       "        text-align: right;\n",
       "    }\n",
       "</style>\n",
       "<table border=\"1\" class=\"dataframe\">\n",
       "  <thead>\n",
       "    <tr style=\"text-align: right;\">\n",
       "      <th></th>\n",
       "      <th>motive</th>\n",
       "      <th>word_count</th>\n",
       "      <th>char_count</th>\n",
       "      <th>avg_word</th>\n",
       "      <th>stopwords</th>\n",
       "      <th>hastags</th>\n",
       "      <th>numerics</th>\n",
       "      <th>upper</th>\n",
       "    </tr>\n",
       "  </thead>\n",
       "  <tbody>\n",
       "    <tr>\n",
       "      <th>11</th>\n",
       "      <td>protest the draft and vietnam war</td>\n",
       "      <td>6</td>\n",
       "      <td>33</td>\n",
       "      <td>4.666667</td>\n",
       "      <td>2</td>\n",
       "      <td>0</td>\n",
       "      <td>0</td>\n",
       "      <td>0</td>\n",
       "    </tr>\n",
       "    <tr>\n",
       "      <th>33</th>\n",
       "      <td>protest and sabotage the draft</td>\n",
       "      <td>5</td>\n",
       "      <td>30</td>\n",
       "      <td>5.200000</td>\n",
       "      <td>2</td>\n",
       "      <td>0</td>\n",
       "      <td>0</td>\n",
       "      <td>0</td>\n",
       "    </tr>\n",
       "    <tr>\n",
       "      <th>41</th>\n",
       "      <td>protest and sabotage the draft</td>\n",
       "      <td>5</td>\n",
       "      <td>30</td>\n",
       "      <td>5.200000</td>\n",
       "      <td>2</td>\n",
       "      <td>0</td>\n",
       "      <td>0</td>\n",
       "      <td>0</td>\n",
       "    </tr>\n",
       "    <tr>\n",
       "      <th>69</th>\n",
       "      <td>to intimidate the police.</td>\n",
       "      <td>4</td>\n",
       "      <td>25</td>\n",
       "      <td>5.500000</td>\n",
       "      <td>1</td>\n",
       "      <td>0</td>\n",
       "      <td>0</td>\n",
       "      <td>0</td>\n",
       "    </tr>\n",
       "    <tr>\n",
       "      <th>91</th>\n",
       "      <td>protest the draft.</td>\n",
       "      <td>3</td>\n",
       "      <td>18</td>\n",
       "      <td>5.333333</td>\n",
       "      <td>1</td>\n",
       "      <td>0</td>\n",
       "      <td>0</td>\n",
       "      <td>0</td>\n",
       "    </tr>\n",
       "  </tbody>\n",
       "</table>\n",
       "</div>"
      ],
      "text/plain": [
       "                               motive  word_count  char_count  avg_word  \\\n",
       "11  protest the draft and vietnam war           6          33  4.666667   \n",
       "33     protest and sabotage the draft           5          30  5.200000   \n",
       "41     protest and sabotage the draft           5          30  5.200000   \n",
       "69          to intimidate the police.           4          25  5.500000   \n",
       "91                 protest the draft.           3          18  5.333333   \n",
       "\n",
       "    stopwords  hastags  numerics  upper  \n",
       "11          2        0         0      0  \n",
       "33          2        0         0      0  \n",
       "41          2        0         0      0  \n",
       "69          1        0         0      0  \n",
       "91          1        0         0      0  "
      ]
     },
     "execution_count": 210,
     "metadata": {},
     "output_type": "execute_result"
    }
   ],
   "source": [
    "motive.head()"
   ]
  },
  {
   "cell_type": "markdown",
   "metadata": {},
   "source": [
    "### Basic feature extraction using text data"
   ]
  },
  {
   "cell_type": "code",
   "execution_count": 200,
   "metadata": {
    "scrolled": true
   },
   "outputs": [
    {
     "data": {
      "text/html": [
       "<div>\n",
       "<style scoped>\n",
       "    .dataframe tbody tr th:only-of-type {\n",
       "        vertical-align: middle;\n",
       "    }\n",
       "\n",
       "    .dataframe tbody tr th {\n",
       "        vertical-align: top;\n",
       "    }\n",
       "\n",
       "    .dataframe thead th {\n",
       "        text-align: right;\n",
       "    }\n",
       "</style>\n",
       "<table border=\"1\" class=\"dataframe\">\n",
       "  <thead>\n",
       "    <tr style=\"text-align: right;\">\n",
       "      <th></th>\n",
       "      <th>motive</th>\n",
       "      <th>word_count</th>\n",
       "    </tr>\n",
       "  </thead>\n",
       "  <tbody>\n",
       "    <tr>\n",
       "      <th>11</th>\n",
       "      <td>Protest the draft and Vietnam War</td>\n",
       "      <td>6</td>\n",
       "    </tr>\n",
       "    <tr>\n",
       "      <th>33</th>\n",
       "      <td>Protest and sabotage the draft</td>\n",
       "      <td>5</td>\n",
       "    </tr>\n",
       "    <tr>\n",
       "      <th>41</th>\n",
       "      <td>Protest and sabotage the draft</td>\n",
       "      <td>5</td>\n",
       "    </tr>\n",
       "    <tr>\n",
       "      <th>69</th>\n",
       "      <td>To intimidate the police.</td>\n",
       "      <td>4</td>\n",
       "    </tr>\n",
       "    <tr>\n",
       "      <th>91</th>\n",
       "      <td>Protest the draft.</td>\n",
       "      <td>3</td>\n",
       "    </tr>\n",
       "  </tbody>\n",
       "</table>\n",
       "</div>"
      ],
      "text/plain": [
       "                               motive  word_count\n",
       "11  Protest the draft and Vietnam War           6\n",
       "33     Protest and sabotage the draft           5\n",
       "41     Protest and sabotage the draft           5\n",
       "69          To intimidate the police.           4\n",
       "91                 Protest the draft.           3"
      ]
     },
     "execution_count": 200,
     "metadata": {},
     "output_type": "execute_result"
    }
   ],
   "source": [
    "motive['word_count'] = motive['motive'].apply(lambda x: len(str(x).split(\" \")))\n",
    "motive[['motive','word_count']].head()"
   ]
  },
  {
   "cell_type": "code",
   "execution_count": 201,
   "metadata": {},
   "outputs": [
    {
     "data": {
      "text/html": [
       "<div>\n",
       "<style scoped>\n",
       "    .dataframe tbody tr th:only-of-type {\n",
       "        vertical-align: middle;\n",
       "    }\n",
       "\n",
       "    .dataframe tbody tr th {\n",
       "        vertical-align: top;\n",
       "    }\n",
       "\n",
       "    .dataframe thead th {\n",
       "        text-align: right;\n",
       "    }\n",
       "</style>\n",
       "<table border=\"1\" class=\"dataframe\">\n",
       "  <thead>\n",
       "    <tr style=\"text-align: right;\">\n",
       "      <th></th>\n",
       "      <th>motive</th>\n",
       "      <th>char_count</th>\n",
       "    </tr>\n",
       "  </thead>\n",
       "  <tbody>\n",
       "    <tr>\n",
       "      <th>11</th>\n",
       "      <td>Protest the draft and Vietnam War</td>\n",
       "      <td>33</td>\n",
       "    </tr>\n",
       "    <tr>\n",
       "      <th>33</th>\n",
       "      <td>Protest and sabotage the draft</td>\n",
       "      <td>30</td>\n",
       "    </tr>\n",
       "    <tr>\n",
       "      <th>41</th>\n",
       "      <td>Protest and sabotage the draft</td>\n",
       "      <td>30</td>\n",
       "    </tr>\n",
       "    <tr>\n",
       "      <th>69</th>\n",
       "      <td>To intimidate the police.</td>\n",
       "      <td>25</td>\n",
       "    </tr>\n",
       "    <tr>\n",
       "      <th>91</th>\n",
       "      <td>Protest the draft.</td>\n",
       "      <td>18</td>\n",
       "    </tr>\n",
       "  </tbody>\n",
       "</table>\n",
       "</div>"
      ],
      "text/plain": [
       "                               motive  char_count\n",
       "11  Protest the draft and Vietnam War          33\n",
       "33     Protest and sabotage the draft          30\n",
       "41     Protest and sabotage the draft          30\n",
       "69          To intimidate the police.          25\n",
       "91                 Protest the draft.          18"
      ]
     },
     "execution_count": 201,
     "metadata": {},
     "output_type": "execute_result"
    }
   ],
   "source": [
    "motive['char_count'] = motive['motive'].str.len() ## this also includes spaces\n",
    "motive[['motive','char_count']].head()"
   ]
  },
  {
   "cell_type": "code",
   "execution_count": 202,
   "metadata": {},
   "outputs": [
    {
     "data": {
      "text/html": [
       "<div>\n",
       "<style scoped>\n",
       "    .dataframe tbody tr th:only-of-type {\n",
       "        vertical-align: middle;\n",
       "    }\n",
       "\n",
       "    .dataframe tbody tr th {\n",
       "        vertical-align: top;\n",
       "    }\n",
       "\n",
       "    .dataframe thead th {\n",
       "        text-align: right;\n",
       "    }\n",
       "</style>\n",
       "<table border=\"1\" class=\"dataframe\">\n",
       "  <thead>\n",
       "    <tr style=\"text-align: right;\">\n",
       "      <th></th>\n",
       "      <th>motive</th>\n",
       "      <th>avg_word</th>\n",
       "    </tr>\n",
       "  </thead>\n",
       "  <tbody>\n",
       "    <tr>\n",
       "      <th>11</th>\n",
       "      <td>Protest the draft and Vietnam War</td>\n",
       "      <td>4.666667</td>\n",
       "    </tr>\n",
       "    <tr>\n",
       "      <th>33</th>\n",
       "      <td>Protest and sabotage the draft</td>\n",
       "      <td>5.200000</td>\n",
       "    </tr>\n",
       "    <tr>\n",
       "      <th>41</th>\n",
       "      <td>Protest and sabotage the draft</td>\n",
       "      <td>5.200000</td>\n",
       "    </tr>\n",
       "    <tr>\n",
       "      <th>69</th>\n",
       "      <td>To intimidate the police.</td>\n",
       "      <td>5.500000</td>\n",
       "    </tr>\n",
       "    <tr>\n",
       "      <th>91</th>\n",
       "      <td>Protest the draft.</td>\n",
       "      <td>5.333333</td>\n",
       "    </tr>\n",
       "  </tbody>\n",
       "</table>\n",
       "</div>"
      ],
      "text/plain": [
       "                               motive  avg_word\n",
       "11  Protest the draft and Vietnam War  4.666667\n",
       "33     Protest and sabotage the draft  5.200000\n",
       "41     Protest and sabotage the draft  5.200000\n",
       "69          To intimidate the police.  5.500000\n",
       "91                 Protest the draft.  5.333333"
      ]
     },
     "execution_count": 202,
     "metadata": {},
     "output_type": "execute_result"
    }
   ],
   "source": [
    "def avg_word(sentence):\n",
    "  words = sentence.split()\n",
    "  return (sum(len(word) for word in words)/len(words))\n",
    "\n",
    "motive['avg_word'] = motive['motive'].apply(lambda x: avg_word(x))\n",
    "motive[['motive','avg_word']].head()"
   ]
  },
  {
   "cell_type": "code",
   "execution_count": 203,
   "metadata": {},
   "outputs": [
    {
     "data": {
      "text/html": [
       "<div>\n",
       "<style scoped>\n",
       "    .dataframe tbody tr th:only-of-type {\n",
       "        vertical-align: middle;\n",
       "    }\n",
       "\n",
       "    .dataframe tbody tr th {\n",
       "        vertical-align: top;\n",
       "    }\n",
       "\n",
       "    .dataframe thead th {\n",
       "        text-align: right;\n",
       "    }\n",
       "</style>\n",
       "<table border=\"1\" class=\"dataframe\">\n",
       "  <thead>\n",
       "    <tr style=\"text-align: right;\">\n",
       "      <th></th>\n",
       "      <th>motive</th>\n",
       "      <th>stopwords</th>\n",
       "    </tr>\n",
       "  </thead>\n",
       "  <tbody>\n",
       "    <tr>\n",
       "      <th>11</th>\n",
       "      <td>Protest the draft and Vietnam War</td>\n",
       "      <td>2</td>\n",
       "    </tr>\n",
       "    <tr>\n",
       "      <th>33</th>\n",
       "      <td>Protest and sabotage the draft</td>\n",
       "      <td>2</td>\n",
       "    </tr>\n",
       "    <tr>\n",
       "      <th>41</th>\n",
       "      <td>Protest and sabotage the draft</td>\n",
       "      <td>2</td>\n",
       "    </tr>\n",
       "    <tr>\n",
       "      <th>69</th>\n",
       "      <td>To intimidate the police.</td>\n",
       "      <td>1</td>\n",
       "    </tr>\n",
       "    <tr>\n",
       "      <th>91</th>\n",
       "      <td>Protest the draft.</td>\n",
       "      <td>1</td>\n",
       "    </tr>\n",
       "  </tbody>\n",
       "</table>\n",
       "</div>"
      ],
      "text/plain": [
       "                               motive  stopwords\n",
       "11  Protest the draft and Vietnam War          2\n",
       "33     Protest and sabotage the draft          2\n",
       "41     Protest and sabotage the draft          2\n",
       "69          To intimidate the police.          1\n",
       "91                 Protest the draft.          1"
      ]
     },
     "execution_count": 203,
     "metadata": {},
     "output_type": "execute_result"
    }
   ],
   "source": [
    "from nltk.corpus import stopwords\n",
    "stop = stopwords.words('english')\n",
    "\n",
    "motive['stopwords'] = motive['motive'].apply(lambda x: len([x for x in x.split() if x in stop]))\n",
    "motive[['motive','stopwords']].head()"
   ]
  },
  {
   "cell_type": "code",
   "execution_count": 207,
   "metadata": {
    "scrolled": true
   },
   "outputs": [
    {
     "data": {
      "text/html": [
       "<div>\n",
       "<style scoped>\n",
       "    .dataframe tbody tr th:only-of-type {\n",
       "        vertical-align: middle;\n",
       "    }\n",
       "\n",
       "    .dataframe tbody tr th {\n",
       "        vertical-align: top;\n",
       "    }\n",
       "\n",
       "    .dataframe thead th {\n",
       "        text-align: right;\n",
       "    }\n",
       "</style>\n",
       "<table border=\"1\" class=\"dataframe\">\n",
       "  <thead>\n",
       "    <tr style=\"text-align: right;\">\n",
       "      <th></th>\n",
       "      <th>motive</th>\n",
       "      <th>numerics</th>\n",
       "    </tr>\n",
       "  </thead>\n",
       "  <tbody>\n",
       "    <tr>\n",
       "      <th>181531</th>\n",
       "      <td>The specific motive is unknown; however, sourc...</td>\n",
       "      <td>0</td>\n",
       "    </tr>\n",
       "    <tr>\n",
       "      <th>181572</th>\n",
       "      <td>The specific motive is unknown; however, sourc...</td>\n",
       "      <td>0</td>\n",
       "    </tr>\n",
       "    <tr>\n",
       "      <th>181581</th>\n",
       "      <td>Houthi extremists (Ansar Allah) claimed respon...</td>\n",
       "      <td>0</td>\n",
       "    </tr>\n",
       "    <tr>\n",
       "      <th>181588</th>\n",
       "      <td>The specific motive is unknown; however, sourc...</td>\n",
       "      <td>0</td>\n",
       "    </tr>\n",
       "    <tr>\n",
       "      <th>181593</th>\n",
       "      <td>The specific motive is unknown; however, sourc...</td>\n",
       "      <td>0</td>\n",
       "    </tr>\n",
       "    <tr>\n",
       "      <th>181602</th>\n",
       "      <td>The specific motive is unknown; however, sourc...</td>\n",
       "      <td>0</td>\n",
       "    </tr>\n",
       "    <tr>\n",
       "      <th>181606</th>\n",
       "      <td>The specific motive is unknown; however, sourc...</td>\n",
       "      <td>0</td>\n",
       "    </tr>\n",
       "    <tr>\n",
       "      <th>181616</th>\n",
       "      <td>Houthi extremists (Ansar Allah) claimed respon...</td>\n",
       "      <td>0</td>\n",
       "    </tr>\n",
       "    <tr>\n",
       "      <th>181665</th>\n",
       "      <td>The specific motive is unknown; however, sourc...</td>\n",
       "      <td>0</td>\n",
       "    </tr>\n",
       "    <tr>\n",
       "      <th>181683</th>\n",
       "      <td>The specific motive is unknown; however, sourc...</td>\n",
       "      <td>0</td>\n",
       "    </tr>\n",
       "  </tbody>\n",
       "</table>\n",
       "</div>"
      ],
      "text/plain": [
       "                                                   motive  numerics\n",
       "181531  The specific motive is unknown; however, sourc...         0\n",
       "181572  The specific motive is unknown; however, sourc...         0\n",
       "181581  Houthi extremists (Ansar Allah) claimed respon...         0\n",
       "181588  The specific motive is unknown; however, sourc...         0\n",
       "181593  The specific motive is unknown; however, sourc...         0\n",
       "181602  The specific motive is unknown; however, sourc...         0\n",
       "181606  The specific motive is unknown; however, sourc...         0\n",
       "181616  Houthi extremists (Ansar Allah) claimed respon...         0\n",
       "181665  The specific motive is unknown; however, sourc...         0\n",
       "181683  The specific motive is unknown; however, sourc...         0"
      ]
     },
     "execution_count": 207,
     "metadata": {},
     "output_type": "execute_result"
    }
   ],
   "source": [
    "motive['numerics'] = motive['motive'].apply(lambda x: len([x for x in x.split() if x.isdigit()]))\n",
    "motive[['motive','numerics']].tail(10)"
   ]
  },
  {
   "cell_type": "markdown",
   "metadata": {},
   "source": [
    "### Basic Pre-processing"
   ]
  },
  {
   "cell_type": "code",
   "execution_count": 209,
   "metadata": {},
   "outputs": [
    {
     "data": {
      "text/plain": [
       "11    protest the draft and vietnam war\n",
       "33       protest and sabotage the draft\n",
       "41       protest and sabotage the draft\n",
       "69            to intimidate the police.\n",
       "91                   protest the draft.\n",
       "Name: motive, dtype: object"
      ]
     },
     "execution_count": 209,
     "metadata": {},
     "output_type": "execute_result"
    }
   ],
   "source": [
    "#The first pre-processing step which we will do is transform our tweets into lower case.\n",
    "#This avoids having multiple copies of the same words. \n",
    "#For example, while calculating the word count, ‘Analytics’ and ‘analytics’ will be taken as different words.\n",
    "\n",
    "motive['motive'] = motive['motive'].apply(lambda x: \" \".join(x.lower() for x in x.split()))\n",
    "motive['motive'].head()"
   ]
  },
  {
   "cell_type": "code",
   "execution_count": null,
   "metadata": {},
   "outputs": [],
   "source": [
    "# Removing Punctuation\n",
    "#The next step is to remove punctuation, as it doesn’t add any extra information while treating text data.\n",
    "#Therefore removing all instances of it will help us reduce the size of the training data."
   ]
  },
  {
   "cell_type": "code",
   "execution_count": 212,
   "metadata": {},
   "outputs": [
    {
     "data": {
      "text/plain": [
       "11    protest the draft and vietnam war\n",
       "33       protest and sabotage the draft\n",
       "41       protest and sabotage the draft\n",
       "69             to intimidate the police\n",
       "91                    protest the draft\n",
       "Name: motive, dtype: object"
      ]
     },
     "execution_count": 212,
     "metadata": {},
     "output_type": "execute_result"
    }
   ],
   "source": [
    "motive['motive'] = motive['motive'].str.replace('[^\\w\\s]','')\n",
    "motive['motive'].head()"
   ]
  },
  {
   "cell_type": "code",
   "execution_count": null,
   "metadata": {},
   "outputs": [],
   "source": [
    "#Removal of Stop Words"
   ]
  },
  {
   "cell_type": "code",
   "execution_count": 213,
   "metadata": {},
   "outputs": [
    {
     "data": {
      "text/plain": [
       "11    protest draft vietnam war\n",
       "33       protest sabotage draft\n",
       "41       protest sabotage draft\n",
       "69            intimidate police\n",
       "91                protest draft\n",
       "Name: motive, dtype: object"
      ]
     },
     "execution_count": 213,
     "metadata": {},
     "output_type": "execute_result"
    }
   ],
   "source": [
    "from nltk.corpus import stopwords\n",
    "stop = stopwords.words('english')\n",
    "motive['motive'] = motive['motive'].apply(lambda x: \" \".join(x for x in x.split() if x not in stop))\n",
    "motive['motive'].head()"
   ]
  },
  {
   "cell_type": "code",
   "execution_count": null,
   "metadata": {},
   "outputs": [],
   "source": [
    "#Common word removal"
   ]
  },
  {
   "cell_type": "code",
   "execution_count": 216,
   "metadata": {},
   "outputs": [
    {
     "data": {
      "text/plain": [
       "unknown           13057\n",
       "motive             9507\n",
       "specific           9378\n",
       "attack             8807\n",
       "however            4850\n",
       "sources            4327\n",
       "claimed            2043\n",
       "stated             1975\n",
       "responsibility     1871\n",
       "incident           1611\n",
       "targeted           1596\n",
       "carried            1506\n",
       "islamic            1428\n",
       "part               1414\n",
       "noted              1241\n",
       "government         1213\n",
       "suspected          1078\n",
       "state              1051\n",
       "police             1031\n",
       "security            986\n",
       "dtype: int64"
      ]
     },
     "execution_count": 216,
     "metadata": {},
     "output_type": "execute_result"
    }
   ],
   "source": [
    "freq = pd.Series(' '.join(motive['motive']).split()).value_counts()[:20]\n",
    "freq"
   ]
  },
  {
   "cell_type": "code",
   "execution_count": null,
   "metadata": {},
   "outputs": [],
   "source": [
    "#Now, let’s remove these words as their presence will not of any use in classification of our text data."
   ]
  },
  {
   "cell_type": "code",
   "execution_count": 217,
   "metadata": {},
   "outputs": [
    {
     "data": {
      "text/plain": [
       "11    protest draft vietnam war\n",
       "33       protest sabotage draft\n",
       "41       protest sabotage draft\n",
       "69                   intimidate\n",
       "91                protest draft\n",
       "Name: motive, dtype: object"
      ]
     },
     "execution_count": 217,
     "metadata": {},
     "output_type": "execute_result"
    }
   ],
   "source": [
    "freq = list(freq.index)\n",
    "motive['motive'] = motive['motive'].apply(lambda x: \" \".join(x for x in x.split() if x not in freq))\n",
    "motive['motive'].head()"
   ]
  },
  {
   "cell_type": "code",
   "execution_count": null,
   "metadata": {},
   "outputs": [],
   "source": [
    "#Rare words removal"
   ]
  },
  {
   "cell_type": "code",
   "execution_count": 218,
   "metadata": {},
   "outputs": [
    {
     "data": {
      "text/plain": [
       "siagan       1\n",
       "jaque        1\n",
       "replenish    1\n",
       "aljarf       1\n",
       "swastika     1\n",
       "quuam        1\n",
       "gotten       1\n",
       "grow         1\n",
       "alvin        1\n",
       "gift         1\n",
       "dtype: int64"
      ]
     },
     "execution_count": 218,
     "metadata": {},
     "output_type": "execute_result"
    }
   ],
   "source": [
    "freq = pd.Series(' '.join(motive['motive']).split()).value_counts()[-10:]\n",
    "freq"
   ]
  },
  {
   "cell_type": "code",
   "execution_count": 219,
   "metadata": {},
   "outputs": [
    {
     "data": {
      "text/plain": [
       "11    protest draft vietnam war\n",
       "33       protest sabotage draft\n",
       "41       protest sabotage draft\n",
       "69                   intimidate\n",
       "91                protest draft\n",
       "Name: motive, dtype: object"
      ]
     },
     "execution_count": 219,
     "metadata": {},
     "output_type": "execute_result"
    }
   ],
   "source": [
    "freq = list(freq.index)\n",
    "motive['motive'] = motive['motive'].apply(lambda x: \" \".join(x for x in x.split() if x not in freq))\n",
    "motive['motive'].head()"
   ]
  },
  {
   "cell_type": "code",
   "execution_count": null,
   "metadata": {},
   "outputs": [],
   "source": [
    "# Stemming "
   ]
  },
  {
   "cell_type": "code",
   "execution_count": 221,
   "metadata": {},
   "outputs": [
    {
     "data": {
      "text/plain": [
       "11    protest draft vietnam war\n",
       "33        protest sabotag draft\n",
       "41        protest sabotag draft\n",
       "69                      intimid\n",
       "91                protest draft\n",
       "Name: motive, dtype: object"
      ]
     },
     "execution_count": 221,
     "metadata": {},
     "output_type": "execute_result"
    }
   ],
   "source": [
    "from nltk.stem import PorterStemmer\n",
    "st = PorterStemmer()\n",
    "motive['motive'][:5].apply(lambda x: \" \".join([st.stem(word) for word in x.split()]))"
   ]
  },
  {
   "cell_type": "code",
   "execution_count": null,
   "metadata": {},
   "outputs": [],
   "source": [
    "#term frequency"
   ]
  },
  {
   "cell_type": "code",
   "execution_count": 222,
   "metadata": {},
   "outputs": [
    {
     "data": {
      "text/html": [
       "<div>\n",
       "<style scoped>\n",
       "    .dataframe tbody tr th:only-of-type {\n",
       "        vertical-align: middle;\n",
       "    }\n",
       "\n",
       "    .dataframe tbody tr th {\n",
       "        vertical-align: top;\n",
       "    }\n",
       "\n",
       "    .dataframe thead th {\n",
       "        text-align: right;\n",
       "    }\n",
       "</style>\n",
       "<table border=\"1\" class=\"dataframe\">\n",
       "  <thead>\n",
       "    <tr style=\"text-align: right;\">\n",
       "      <th></th>\n",
       "      <th>words</th>\n",
       "      <th>tf</th>\n",
       "    </tr>\n",
       "  </thead>\n",
       "  <tbody>\n",
       "    <tr>\n",
       "      <th>0</th>\n",
       "      <td>protest</td>\n",
       "      <td>1</td>\n",
       "    </tr>\n",
       "    <tr>\n",
       "      <th>1</th>\n",
       "      <td>sabotage</td>\n",
       "      <td>1</td>\n",
       "    </tr>\n",
       "    <tr>\n",
       "      <th>2</th>\n",
       "      <td>draft</td>\n",
       "      <td>1</td>\n",
       "    </tr>\n",
       "  </tbody>\n",
       "</table>\n",
       "</div>"
      ],
      "text/plain": [
       "      words  tf\n",
       "0   protest   1\n",
       "1  sabotage   1\n",
       "2     draft   1"
      ]
     },
     "execution_count": 222,
     "metadata": {},
     "output_type": "execute_result"
    }
   ],
   "source": [
    "tf1 = (motive['motive'][1:2]).apply(lambda x: pd.value_counts(x.split(\" \"))).sum(axis = 0).reset_index()\n",
    "tf1.columns = ['words','tf']\n",
    "tf1"
   ]
  },
  {
   "cell_type": "code",
   "execution_count": null,
   "metadata": {},
   "outputs": [],
   "source": [
    "#IDF"
   ]
  },
  {
   "cell_type": "code",
   "execution_count": 223,
   "metadata": {},
   "outputs": [
    {
     "data": {
      "text/html": [
       "<div>\n",
       "<style scoped>\n",
       "    .dataframe tbody tr th:only-of-type {\n",
       "        vertical-align: middle;\n",
       "    }\n",
       "\n",
       "    .dataframe tbody tr th {\n",
       "        vertical-align: top;\n",
       "    }\n",
       "\n",
       "    .dataframe thead th {\n",
       "        text-align: right;\n",
       "    }\n",
       "</style>\n",
       "<table border=\"1\" class=\"dataframe\">\n",
       "  <thead>\n",
       "    <tr style=\"text-align: right;\">\n",
       "      <th></th>\n",
       "      <th>words</th>\n",
       "      <th>tf</th>\n",
       "      <th>idf</th>\n",
       "    </tr>\n",
       "  </thead>\n",
       "  <tbody>\n",
       "    <tr>\n",
       "      <th>0</th>\n",
       "      <td>protest</td>\n",
       "      <td>1</td>\n",
       "      <td>3.564016</td>\n",
       "    </tr>\n",
       "    <tr>\n",
       "      <th>1</th>\n",
       "      <td>sabotage</td>\n",
       "      <td>1</td>\n",
       "      <td>4.241659</td>\n",
       "    </tr>\n",
       "    <tr>\n",
       "      <th>2</th>\n",
       "      <td>draft</td>\n",
       "      <td>1</td>\n",
       "      <td>5.776989</td>\n",
       "    </tr>\n",
       "  </tbody>\n",
       "</table>\n",
       "</div>"
      ],
      "text/plain": [
       "      words  tf       idf\n",
       "0   protest   1  3.564016\n",
       "1  sabotage   1  4.241659\n",
       "2     draft   1  5.776989"
      ]
     },
     "execution_count": 223,
     "metadata": {},
     "output_type": "execute_result"
    }
   ],
   "source": [
    "for i,word in enumerate(tf1['words']):\n",
    "  tf1.loc[i, 'idf'] = np.log(motive.shape[0]/(len(motive[motive['motive'].str.contains(word)])))\n",
    "\n",
    "tf1"
   ]
  },
  {
   "cell_type": "code",
   "execution_count": 224,
   "metadata": {},
   "outputs": [
    {
     "data": {
      "text/html": [
       "<div>\n",
       "<style scoped>\n",
       "    .dataframe tbody tr th:only-of-type {\n",
       "        vertical-align: middle;\n",
       "    }\n",
       "\n",
       "    .dataframe tbody tr th {\n",
       "        vertical-align: top;\n",
       "    }\n",
       "\n",
       "    .dataframe thead th {\n",
       "        text-align: right;\n",
       "    }\n",
       "</style>\n",
       "<table border=\"1\" class=\"dataframe\">\n",
       "  <thead>\n",
       "    <tr style=\"text-align: right;\">\n",
       "      <th></th>\n",
       "      <th>words</th>\n",
       "      <th>tf</th>\n",
       "      <th>idf</th>\n",
       "      <th>tfidf</th>\n",
       "    </tr>\n",
       "  </thead>\n",
       "  <tbody>\n",
       "    <tr>\n",
       "      <th>0</th>\n",
       "      <td>protest</td>\n",
       "      <td>1</td>\n",
       "      <td>3.564016</td>\n",
       "      <td>3.564016</td>\n",
       "    </tr>\n",
       "    <tr>\n",
       "      <th>1</th>\n",
       "      <td>sabotage</td>\n",
       "      <td>1</td>\n",
       "      <td>4.241659</td>\n",
       "      <td>4.241659</td>\n",
       "    </tr>\n",
       "    <tr>\n",
       "      <th>2</th>\n",
       "      <td>draft</td>\n",
       "      <td>1</td>\n",
       "      <td>5.776989</td>\n",
       "      <td>5.776989</td>\n",
       "    </tr>\n",
       "  </tbody>\n",
       "</table>\n",
       "</div>"
      ],
      "text/plain": [
       "      words  tf       idf     tfidf\n",
       "0   protest   1  3.564016  3.564016\n",
       "1  sabotage   1  4.241659  4.241659\n",
       "2     draft   1  5.776989  5.776989"
      ]
     },
     "execution_count": 224,
     "metadata": {},
     "output_type": "execute_result"
    }
   ],
   "source": [
    "tf1['tfidf'] = tf1['tf'] * tf1['idf']\n",
    "tf1"
   ]
  },
  {
   "cell_type": "code",
   "execution_count": 226,
   "metadata": {},
   "outputs": [],
   "source": [
    "from sklearn.decomposition import PCA\n",
    "pca = PCA(.95)"
   ]
  },
  {
   "cell_type": "code",
   "execution_count": 227,
   "metadata": {},
   "outputs": [
    {
     "data": {
      "text/plain": [
       "PCA(copy=True, iterated_power='auto', n_components=0.95, random_state=None,\n",
       "  svd_solver='auto', tol=0.0, whiten=False)"
      ]
     },
     "execution_count": 227,
     "metadata": {},
     "output_type": "execute_result"
    }
   ],
   "source": [
    "pca.fit(X)"
   ]
  },
  {
   "cell_type": "code",
   "execution_count": 228,
   "metadata": {},
   "outputs": [
    {
     "data": {
      "text/plain": [
       "array([0.78703755, 0.1759929 ])"
      ]
     },
     "execution_count": 228,
     "metadata": {},
     "output_type": "execute_result"
    }
   ],
   "source": [
    "pca.explained_variance_ratio_"
   ]
  },
  {
   "cell_type": "code",
   "execution_count": 229,
   "metadata": {},
   "outputs": [
    {
     "name": "stdout",
     "output_type": "stream",
     "text": [
      "[[8.29078991e-01 5.58823166e-01 6.45716232e-03 1.67129661e-02\n",
      "  1.38864598e-04 2.91386208e-04 3.33243193e-04 3.13093874e-03\n",
      "  3.08896568e-03 8.67728505e-04 1.67586466e-03 7.46319537e-04]\n",
      " [5.58200717e-01 8.29088008e-01 2.69308043e-03 3.13321289e-02\n",
      "  1.15921639e-03 2.34421629e-05 1.93871829e-03 1.12622637e-03\n",
      "  3.86266188e-03 6.92524516e-04 3.78260291e-03 2.49272488e-05]]\n"
     ]
    }
   ],
   "source": [
    "print(abs( pca.components_ ))"
   ]
  },
  {
   "cell_type": "code",
   "execution_count": 231,
   "metadata": {},
   "outputs": [
    {
     "name": "stdout",
     "output_type": "stream",
     "text": [
      "{'PC0': 'Year', 'PC1': 'Month'}\n"
     ]
    }
   ],
   "source": [
    "feature_dict = { 0:'Year',\n",
    "1: 'Month',\n",
    "2: 'Day',\n",
    "3: 'Extended Incident',\n",
    "4: 'Country',\n",
    "5:  'Region',\n",
    "6: 'Criterion 1',\n",
    "7: 'Criterion 2',\n",
    "8: 'Criterion 3',\n",
    "9: 'AttackType',\n",
    "10: 'Killed',\n",
    "11: 'Wounded',\n",
    "12: 'Target',\n",
    "13: 'Suicide Attack',\n",
    "14: 'Multiple',\n",
    "15: 'Nationality',\n",
    "16: 'Weapon_type',\n",
    "17: 'International- Logistical',\n",
    "18: 'International- Ideological',\n",
    "19: 'Success',\n",
    "}\n",
    "\n",
    "# number of components\n",
    "n_pcs= pca.components_.shape[0]\n",
    "\n",
    "# get the index of the most important feature on EACH component\n",
    "# LIST COMPREHENSION HERE\n",
    "most_important = [np.abs(pca.components_[i]).argmax() for i in range(n_pcs)]\n",
    "\n",
    "initial_feature_names = list(feature_dict.values())\n",
    "# get the names\n",
    "most_important_names = [initial_feature_names[most_important[i]] for i in range(n_pcs)]\n",
    "\n",
    "# LIST COMPREHENSION HERE AGAIN\n",
    "dic = {'PC{}'.format(i): most_important_names[i] for i in range(n_pcs)}\n",
    "\n",
    "print(dic)"
   ]
  },
  {
   "cell_type": "code",
   "execution_count": null,
   "metadata": {},
   "outputs": [],
   "source": []
  }
 ],
 "metadata": {
  "kernelspec": {
   "display_name": "Python 3",
   "language": "python",
   "name": "python3"
  },
  "language_info": {
   "codemirror_mode": {
    "name": "ipython",
    "version": 3
   },
   "file_extension": ".py",
   "mimetype": "text/x-python",
   "name": "python",
   "nbconvert_exporter": "python",
   "pygments_lexer": "ipython3",
   "version": "3.7.4"
  }
 },
 "nbformat": 4,
 "nbformat_minor": 2
}
